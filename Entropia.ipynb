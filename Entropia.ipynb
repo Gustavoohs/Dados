{
  "nbformat": 4,
  "nbformat_minor": 0,
  "metadata": {
    "colab": {
      "name": "Entropia.ipynb",
      "provenance": []
    },
    "kernelspec": {
      "name": "python3",
      "display_name": "Python 3"
    },
    "language_info": {
      "name": "python"
    }
  },
  "cells": [
    {
      "cell_type": "code",
      "execution_count": null,
      "metadata": {
        "id": "q_Yt3fNg9UCG"
      },
      "outputs": [],
      "source": [
        "# Bibliotecas\n",
        "import matplotlib.pyplot as plt\n",
        "import numpy as np\n",
        "import tifffile as tif\n",
        "from skimage.filters.rank import entropy\n",
        "from skimage.morphology import disk"
      ]
    },
    {
      "cell_type": "code",
      "source": [
        "# Lendo arquivo\n",
        "img = tif.imread('L71221071_07120010720_DN.tif')"
      ],
      "metadata": {
        "id": "HE5hqpp9-LyF"
      },
      "execution_count": null,
      "outputs": []
    },
    {
      "cell_type": "code",
      "source": [
        "# Calculando entropia para cada banda\n",
        "entr_img = np.zeros_like(img)\n",
        "\n",
        "for i in range(img.shape[2]):\n",
        "  entr_img[:,:,i] = entropy(img[:,:,i], disk(5))"
      ],
      "metadata": {
        "id": "rt_FdJbg-WQK"
      },
      "execution_count": null,
      "outputs": []
    },
    {
      "cell_type": "code",
      "source": [
        "# Visualizando entropia\n",
        "bandas = ['B1','B2','B3','B4','B5','B7']\n",
        "fig,axes = plt.subplots(2,3,figsize=(12,8)) \n",
        "fig.suptitle('Entropia', fontsize=30) \n",
        "axes = axes.ravel() \n",
        "for i in range(entr_img.shape[2]): \n",
        "  axes[i].imshow(entr_img[:,:,i],cmap='jet') \n",
        "  axes[i].set_title(bandas[i],fontsize=20) \n",
        "  axes[i].axis('off')"
      ],
      "metadata": {
        "id": "rlXtPeL8-tM7"
      },
      "execution_count": null,
      "outputs": []
    },
    {
      "cell_type": "code",
      "source": [
        "# Visualizando disks\n",
        "disks = [disk(1),disk(2),disk(3),disk(4)]\n",
        "\n",
        "fig,axes = plt.subplots(2,2,figsize=(12,8)) \n",
        "fig.suptitle('Disks', fontsize=30) \n",
        "axes = axes.ravel() \n",
        "for i in range(4): \n",
        "  axes[i].imshow(disks[i]) \n",
        "  axes[i].set_title(str(i+1),fontsize=20) \n",
        "  axes[i].axis('off')"
      ],
      "metadata": {
        "colab": {
          "base_uri": "https://localhost:8080/",
          "height": 523
        },
        "id": "24vSS34K-wgO",
        "outputId": "2c8d0269-6d57-48f7-8916-65d428f6046b"
      },
      "execution_count": null,
      "outputs": [
        {
          "output_type": "display_data",
          "data": {
            "image/png": "[encoded data removed]",
            "text/plain": [
              "<Figure size 864x576 with 4 Axes>"
            ]
          },
          "metadata": {
            "needs_background": "light"
          }
        }
      ]
    },
    {
      "cell_type": "code",
      "source": [
        ""
      ],
      "metadata": {
        "id": "sB3qgdTHCwP9"
      },
      "execution_count": null,
      "outputs": []
    }
  ]
}