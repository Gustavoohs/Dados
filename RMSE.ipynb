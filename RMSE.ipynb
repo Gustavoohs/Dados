{
  "nbformat": 4,
  "nbformat_minor": 0,
  "metadata": {
    "colab": {
      "name": "RMSE.ipynb",
      "provenance": [],
      "collapsed_sections": []
    },
    "kernelspec": {
      "name": "python3",
      "display_name": "Python 3"
    },
    "language_info": {
      "name": "python"
    }
  },
  "cells": [
    {
      "cell_type": "code",
      "metadata": {
        "id": "aIYq1op0Wv35"
      },
      "source": [
        "import numpy as np\n",
        "import matplotlib.pyplot as plt\n",
        "import matplotlib\n",
        "import tifffile as tif\n",
        "import math\n",
        "from skimage.metrics import mean_squared_error as mse"
      ],
      "execution_count": null,
      "outputs": []
    },
    {
      "cell_type": "code",
      "metadata": {
        "id": "UfnTiTnwosPp"
      },
      "source": [
        "matplotlib.rcParams['figure.figsize'] = (15,10)"
      ],
      "execution_count": null,
      "outputs": []
    },
    {
      "cell_type": "markdown",
      "metadata": {
        "id": "rPK9gawnh-Mr"
      },
      "source": [
        ""
      ]
    },
    {
      "cell_type": "code",
      "metadata": {
        "id": "XLyFl29-W0H-"
      },
      "source": [
        "#Leitura das imagens\n",
        "original = tif.imread('20171206.tif')\n",
        "lee3 = tif.imread('Lee3_Spk.tif')\n",
        "lee5 = tif.imread('Lee5_Spk.tif')\n",
        "frost3 = tif.imread('Frost3_Spk.tif')\n",
        "frost5 = tif.imread('Frost5_Spk.tif')\n"
      ],
      "execution_count": null,
      "outputs": []
    },
    {
      "cell_type": "code",
      "metadata": {
        "id": "e5tVNMv6nP-B"
      },
      "source": [
        "#Visualização\n",
        "fig,axes = plt.subplots(2,3,figsize=(15,10),sharex='all', sharey='all')\n",
        "axes = axes.ravel()\n",
        "\n",
        "axes[0].imshow(original,cmap='gray')\n",
        "axes[0].set_title('Original',fontsize=15)\n",
        "\n",
        "axes[1].imshow(lee3,cmap='gray')\n",
        "axes[1].set_title('Lee 3x3',fontsize=15)\n",
        "\n",
        "axes[2].imshow(lee5,cmap='gray')\n",
        "axes[2].set_title('Lee 5x5',fontsize=15)\n",
        "\n",
        "axes[3].imshow(frost3,cmap='gray')\n",
        "axes[3].set_title('Frost 3x3',fontsize=15)\n",
        "\n",
        "axes[4].imshow(frost5,cmap='gray')\n",
        "axes[4].set_title('Frost 5x5',fontsize=15)\n",
        "plt.axis('off')\n",
        "plt.show()"
      ],
      "execution_count": null,
      "outputs": []
    },
    {
      "cell_type": "code",
      "metadata": {
        "id": "_7VUQMA7XKbN"
      },
      "source": [
        "#Cálculo do RMSE\n",
        "L3 = round((math.sqrt(mse(original,lee3))), 3)\n",
        "L5 = round(math.sqrt(mse(original,lee5)), 3)\n",
        "F3 = round(math.sqrt(mse(original,frost3)), 3)\n",
        "F5 = round(math.sqrt(mse(original,frost5)), 3)"
      ],
      "execution_count": null,
      "outputs": []
    },
    {
      "cell_type": "code",
      "metadata": {
        "colab": {
          "base_uri": "https://localhost:8080/",
          "height": 592
        },
        "id": "XyfVTlQRX_a_",
        "outputId": "0ec03a53-232a-4bba-86a5-d2f0090f0f4b"
      },
      "source": [
        "#Visualização  do RMSE\n",
        "labels = ['Lee3','Lee5','Frost3','Frost5']\n",
        "rmse = [L3,L5,F3,F5]\n",
        "\n",
        "plt.bar([0,1,2,3],rmse)\n",
        "plt.xticks([0,1,2,3], labels)\n",
        "plt.ylabel('RSME')\n",
        "\n",
        "for index, data in enumerate(rmse):\n",
        "    plt.text(x=index, y= data + 0.1, s=f\"{data}\")\n",
        "plt.show()"
      ],
      "execution_count": null,
      "outputs": [
        {
          "output_type": "display_data",
          "data": {
            "image/png": "[encoded data removed]",
            "text/plain": [
              "<Figure size 1080x720 with 1 Axes>"
            ]
          },
          "metadata": {
            "tags": [],
            "needs_background": "light"
          }
        }
      ]
    },
    {
      "cell_type": "markdown",
      "metadata": {
        "id": "xH219t5bZSNp"
      },
      "source": [
        ""
      ]
    },
    {
      "cell_type": "code",
      "metadata": {
        "id": "Q6PXbQFnXczb"
      },
      "source": [
        ""
      ],
      "execution_count": null,
      "outputs": []
    }
  ]
}