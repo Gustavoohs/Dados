{
  "nbformat": 4,
  "nbformat_minor": 0,
  "metadata": {
    "colab": {
      "name": "selecao_por_localizacao.ipynb",
      "provenance": []
    },
    "kernelspec": {
      "name": "python3",
      "display_name": "Python 3"
    },
    "language_info": {
      "name": "python"
    }
  },
  "cells": [
    {
      "cell_type": "code",
      "execution_count": null,
      "metadata": {
        "colab": {
          "base_uri": "https://localhost:8080/"
        },
        "id": "ufqxl8GrlTjx",
        "outputId": "d3b88c04-88d9-43ab-c908-e6ca562268e0"
      },
      "outputs": [
        {
          "output_type": "stream",
          "name": "stdout",
          "text": [
            "\u001b[?25l\r\u001b[K     |▎                               | 10 kB 22.9 MB/s eta 0:00:01\r\u001b[K     |▋                               | 20 kB 24.9 MB/s eta 0:00:01\r\u001b[K     |█                               | 30 kB 13.7 MB/s eta 0:00:01\r\u001b[K     |█▎                              | 40 kB 11.0 MB/s eta 0:00:01\r\u001b[K     |█▋                              | 51 kB 5.0 MB/s eta 0:00:01\r\u001b[K     |██                              | 61 kB 5.9 MB/s eta 0:00:01\r\u001b[K     |██▎                             | 71 kB 6.0 MB/s eta 0:00:01\r\u001b[K     |██▋                             | 81 kB 4.5 MB/s eta 0:00:01\r\u001b[K     |███                             | 92 kB 5.0 MB/s eta 0:00:01\r\u001b[K     |███▎                            | 102 kB 5.5 MB/s eta 0:00:01\r\u001b[K     |███▋                            | 112 kB 5.5 MB/s eta 0:00:01\r\u001b[K     |████                            | 122 kB 5.5 MB/s eta 0:00:01\r\u001b[K     |████▎                           | 133 kB 5.5 MB/s eta 0:00:01\r\u001b[K     |████▋                           | 143 kB 5.5 MB/s eta 0:00:01\r\u001b[K     |█████                           | 153 kB 5.5 MB/s eta 0:00:01\r\u001b[K     |█████▎                          | 163 kB 5.5 MB/s eta 0:00:01\r\u001b[K     |█████▋                          | 174 kB 5.5 MB/s eta 0:00:01\r\u001b[K     |██████                          | 184 kB 5.5 MB/s eta 0:00:01\r\u001b[K     |██████▎                         | 194 kB 5.5 MB/s eta 0:00:01\r\u001b[K     |██████▋                         | 204 kB 5.5 MB/s eta 0:00:01\r\u001b[K     |███████                         | 215 kB 5.5 MB/s eta 0:00:01\r\u001b[K     |███████▎                        | 225 kB 5.5 MB/s eta 0:00:01\r\u001b[K     |███████▋                        | 235 kB 5.5 MB/s eta 0:00:01\r\u001b[K     |████████                        | 245 kB 5.5 MB/s eta 0:00:01\r\u001b[K     |████████▎                       | 256 kB 5.5 MB/s eta 0:00:01\r\u001b[K     |████████▋                       | 266 kB 5.5 MB/s eta 0:00:01\r\u001b[K     |█████████                       | 276 kB 5.5 MB/s eta 0:00:01\r\u001b[K     |█████████▎                      | 286 kB 5.5 MB/s eta 0:00:01\r\u001b[K     |█████████▌                      | 296 kB 5.5 MB/s eta 0:00:01\r\u001b[K     |█████████▉                      | 307 kB 5.5 MB/s eta 0:00:01\r\u001b[K     |██████████▏                     | 317 kB 5.5 MB/s eta 0:00:01\r\u001b[K     |██████████▌                     | 327 kB 5.5 MB/s eta 0:00:01\r\u001b[K     |██████████▉                     | 337 kB 5.5 MB/s eta 0:00:01\r\u001b[K     |███████████▏                    | 348 kB 5.5 MB/s eta 0:00:01\r\u001b[K     |███████████▌                    | 358 kB 5.5 MB/s eta 0:00:01\r\u001b[K     |███████████▉                    | 368 kB 5.5 MB/s eta 0:00:01\r\u001b[K     |████████████▏                   | 378 kB 5.5 MB/s eta 0:00:01\r\u001b[K     |████████████▌                   | 389 kB 5.5 MB/s eta 0:00:01\r\u001b[K     |████████████▉                   | 399 kB 5.5 MB/s eta 0:00:01\r\u001b[K     |█████████████▏                  | 409 kB 5.5 MB/s eta 0:00:01\r\u001b[K     |█████████████▌                  | 419 kB 5.5 MB/s eta 0:00:01\r\u001b[K     |█████████████▉                  | 430 kB 5.5 MB/s eta 0:00:01\r\u001b[K     |██████████████▏                 | 440 kB 5.5 MB/s eta 0:00:01\r\u001b[K     |██████████████▌                 | 450 kB 5.5 MB/s eta 0:00:01\r\u001b[K     |██████████████▉                 | 460 kB 5.5 MB/s eta 0:00:01\r\u001b[K     |███████████████▏                | 471 kB 5.5 MB/s eta 0:00:01\r\u001b[K     |███████████████▌                | 481 kB 5.5 MB/s eta 0:00:01\r\u001b[K     |███████████████▉                | 491 kB 5.5 MB/s eta 0:00:01\r\u001b[K     |████████████████▏               | 501 kB 5.5 MB/s eta 0:00:01\r\u001b[K     |████████████████▌               | 512 kB 5.5 MB/s eta 0:00:01\r\u001b[K     |████████████████▉               | 522 kB 5.5 MB/s eta 0:00:01\r\u001b[K     |█████████████████▏              | 532 kB 5.5 MB/s eta 0:00:01\r\u001b[K     |█████████████████▌              | 542 kB 5.5 MB/s eta 0:00:01\r\u001b[K     |█████████████████▉              | 552 kB 5.5 MB/s eta 0:00:01\r\u001b[K     |██████████████████▏             | 563 kB 5.5 MB/s eta 0:00:01\r\u001b[K     |██████████████████▌             | 573 kB 5.5 MB/s eta 0:00:01\r\u001b[K     |██████████████████▊             | 583 kB 5.5 MB/s eta 0:00:01\r\u001b[K     |███████████████████             | 593 kB 5.5 MB/s eta 0:00:01\r\u001b[K     |███████████████████▍            | 604 kB 5.5 MB/s eta 0:00:01\r\u001b[K     |███████████████████▊            | 614 kB 5.5 MB/s eta 0:00:01\r\u001b[K     |████████████████████            | 624 kB 5.5 MB/s eta 0:00:01\r\u001b[K     |████████████████████▍           | 634 kB 5.5 MB/s eta 0:00:01\r\u001b[K     |████████████████████▊           | 645 kB 5.5 MB/s eta 0:00:01\r\u001b[K     |█████████████████████           | 655 kB 5.5 MB/s eta 0:00:01\r\u001b[K     |█████████████████████▍          | 665 kB 5.5 MB/s eta 0:00:01\r\u001b[K     |█████████████████████▊          | 675 kB 5.5 MB/s eta 0:00:01\r\u001b[K     |██████████████████████          | 686 kB 5.5 MB/s eta 0:00:01\r\u001b[K     |██████████████████████▍         | 696 kB 5.5 MB/s eta 0:00:01\r\u001b[K     |██████████████████████▊         | 706 kB 5.5 MB/s eta 0:00:01\r\u001b[K     |███████████████████████         | 716 kB 5.5 MB/s eta 0:00:01\r\u001b[K     |███████████████████████▍        | 727 kB 5.5 MB/s eta 0:00:01\r\u001b[K     |███████████████████████▊        | 737 kB 5.5 MB/s eta 0:00:01\r\u001b[K     |████████████████████████        | 747 kB 5.5 MB/s eta 0:00:01\r\u001b[K     |████████████████████████▍       | 757 kB 5.5 MB/s eta 0:00:01\r\u001b[K     |████████████████████████▊       | 768 kB 5.5 MB/s eta 0:00:01\r\u001b[K     |█████████████████████████       | 778 kB 5.5 MB/s eta 0:00:01\r\u001b[K     |█████████████████████████▍      | 788 kB 5.5 MB/s eta 0:00:01\r\u001b[K     |█████████████████████████▊      | 798 kB 5.5 MB/s eta 0:00:01\r\u001b[K     |██████████████████████████      | 808 kB 5.5 MB/s eta 0:00:01\r\u001b[K     |██████████████████████████▍     | 819 kB 5.5 MB/s eta 0:00:01\r\u001b[K     |██████████████████████████▊     | 829 kB 5.5 MB/s eta 0:00:01\r\u001b[K     |███████████████████████████     | 839 kB 5.5 MB/s eta 0:00:01\r\u001b[K     |███████████████████████████▍    | 849 kB 5.5 MB/s eta 0:00:01\r\u001b[K     |███████████████████████████▊    | 860 kB 5.5 MB/s eta 0:00:01\r\u001b[K     |████████████████████████████    | 870 kB 5.5 MB/s eta 0:00:01\r\u001b[K     |████████████████████████████▎   | 880 kB 5.5 MB/s eta 0:00:01\r\u001b[K     |████████████████████████████▋   | 890 kB 5.5 MB/s eta 0:00:01\r\u001b[K     |█████████████████████████████   | 901 kB 5.5 MB/s eta 0:00:01\r\u001b[K     |█████████████████████████████▎  | 911 kB 5.5 MB/s eta 0:00:01\r\u001b[K     |█████████████████████████████▋  | 921 kB 5.5 MB/s eta 0:00:01\r\u001b[K     |██████████████████████████████  | 931 kB 5.5 MB/s eta 0:00:01\r\u001b[K     |██████████████████████████████▎ | 942 kB 5.5 MB/s eta 0:00:01\r\u001b[K     |██████████████████████████████▋ | 952 kB 5.5 MB/s eta 0:00:01\r\u001b[K     |███████████████████████████████ | 962 kB 5.5 MB/s eta 0:00:01\r\u001b[K     |███████████████████████████████▎| 972 kB 5.5 MB/s eta 0:00:01\r\u001b[K     |███████████████████████████████▋| 983 kB 5.5 MB/s eta 0:00:01\r\u001b[K     |████████████████████████████████| 993 kB 5.5 MB/s eta 0:00:01\r\u001b[K     |████████████████████████████████| 994 kB 5.5 MB/s \n",
            "\u001b[?25h"
          ]
        }
      ],
      "source": [
        "!pip install -q geobr\n",
        "!pip install -q geopandas\n",
        "!pip install -q rtree"
      ]
    },
    {
      "cell_type": "code",
      "source": [
        "import matplotlib\n",
        "matplotlib.rcParams['figure.figsize'] = (15,10)"
      ],
      "metadata": {
        "id": "72MFJA70p1dF"
      },
      "execution_count": null,
      "outputs": []
    },
    {
      "cell_type": "code",
      "source": [
        "# Bibliotecas\n",
        "import geobr\n",
        "import geopandas as gpd\n",
        "import matplotlib.pyplot as plt"
      ],
      "metadata": {
        "id": "5EPnaug5lbQY"
      },
      "execution_count": null,
      "outputs": []
    },
    {
      "cell_type": "code",
      "source": [
        "# Lendo arquivo de pontos\n",
        "pts = gpd.read_file('pts2.shp')\n",
        "pts.plot()"
      ],
      "metadata": {
        "id": "BKW9_w4Elm_u"
      },
      "execution_count": null,
      "outputs": []
    },
    {
      "cell_type": "code",
      "source": [
        "# Lendo municípios do Brasil\n",
        "mun = geobr.read_municipality(year=2020)"
      ],
      "metadata": {
        "id": "GH4kKpbEqNzg"
      },
      "execution_count": null,
      "outputs": []
    },
    {
      "cell_type": "code",
      "source": [
        "# Definindo projeção\n",
        "mun.crs= {'init' :'epsg:4674'}"
      ],
      "metadata": {
        "id": "ztqyLCRv0ci4"
      },
      "execution_count": null,
      "outputs": []
    },
    {
      "cell_type": "code",
      "source": [
        "# Reprojetando municípios\n",
        "mun = mun.to_crs(pts.crs)"
      ],
      "metadata": {
        "id": "N2x4T3Kkti1Y"
      },
      "execution_count": null,
      "outputs": []
    },
    {
      "cell_type": "code",
      "source": [
        "# Dissolvendo arquivo de pontos\n",
        "pts['diss'] = 'diss' \n",
        "pts_geom = pts.dissolve(by='diss').geometry[0] \n",
        "\n",
        "# Selecionando municípios que interceptam pontos\n",
        "select = mun[mun.intersects(pts_geom)]"
      ],
      "metadata": {
        "id": "qcbuFQRa-o48"
      },
      "execution_count": null,
      "outputs": []
    },
    {
      "cell_type": "code",
      "source": [
        "# Visualizando resultado\n",
        "select.plot()"
      ],
      "metadata": {
        "id": "GwG-ZZlNxNlP"
      },
      "execution_count": null,
      "outputs": []
    },
    {
      "cell_type": "code",
      "source": [
        ""
      ],
      "metadata": {
        "id": "RVSbOLEkxQ6v"
      },
      "execution_count": null,
      "outputs": []
    }
  ]
}