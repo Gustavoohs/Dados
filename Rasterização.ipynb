{
 "cells": [
  {
   "cell_type": "code",
   "execution_count": 1,
   "id": "fd72104f",
   "metadata": {},
   "outputs": [],
   "source": [
    "from osgeo import ogr\n",
    "from osgeo import gdal"
   ]
  },
  {
   "cell_type": "code",
   "execution_count": null,
   "id": "5be718ff",
   "metadata": {},
   "outputs": [],
   "source": [
    "pixel = 1000\n",
    "\n",
    "shape = ogr.Open('BR.shp')\n",
    "shp = shape.GetLayer()\n",
    "x_min, x_max, y_min, y_max = shp.GetExtent()\n",
    "\n",
    "x_res = int((x_max - x_min) / pixel)\n",
    "y_res = int((y_max - y_min) / pixel)\n",
    "\n",
    "driver = gdal.GetDriverByName('GTiff')\n",
    "raster = driver.Create('raster.tif', x_res, y_res, 1,  gdal.GDT_Byte)\n",
    "raster.SetGeoTransform((x_min, pixel, 0, y_max, 0, -pixel))\n",
    "band = raster.GetRasterBand(1)\n",
    "band.SetNoDataValue(-9999)\n",
    "gdal.RasterizeLayer(raster, [1], shp,  burn_values=[255])"
   ]
  },
  {
   "cell_type": "code",
   "execution_count": null,
   "id": "5fa263a2",
   "metadata": {},
   "outputs": [],
   "source": [
    "from spectral import imshow\n",
    "d = raster.ReadAsArray()\n",
    "imshow(d)"
   ]
  }
 ],
 "metadata": {
  "kernelspec": {
   "display_name": "Python 3",
   "language": "python",
   "name": "python3"
  },
  "language_info": {
   "codemirror_mode": {
    "name": "ipython",
    "version": 3
   },
   "file_extension": ".py",
   "mimetype": "text/x-python",
   "name": "python",
   "nbconvert_exporter": "python",
   "pygments_lexer": "ipython3",
   "version": "3.8.8"
  }
 },
 "nbformat": 4,
 "nbformat_minor": 5
}
