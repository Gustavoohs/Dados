{
  "nbformat": 4,
  "nbformat_minor": 0,
  "metadata": {
    "colab": {
      "name": "Geocode.ipynb",
      "provenance": []
    },
    "kernelspec": {
      "name": "python3",
      "display_name": "Python 3"
    },
    "language_info": {
      "name": "python"
    }
  },
  "cells": [
    {
      "cell_type": "code",
      "metadata": {
        "colab": {
          "base_uri": "https://localhost:8080/"
        },
        "id": "QBpXCvH7qnOo",
        "outputId": "eebff094-5c33-417b-f361-e9f16af1d175"
      },
      "source": [
        "!pip install geopandas\n",
        "!pip install geopy\n",
        "!pip install folium"
      ],
      "execution_count": null,
      "outputs": [
        {
          "output_type": "stream",
          "name": "stdout",
          "text": [
            "Requirement already satisfied: geopandas in /usr/local/lib/python3.7/dist-packages (0.9.0)\n",
            "Requirement already satisfied: fiona>=1.8 in /usr/local/lib/python3.7/dist-packages (from geopandas) (1.8.20)\n",
            "Requirement already satisfied: shapely>=1.6 in /usr/local/lib/python3.7/dist-packages (from geopandas) (1.7.1)\n",
            "Requirement already satisfied: pyproj>=2.2.0 in /usr/local/lib/python3.7/dist-packages (from geopandas) (3.2.1)\n",
            "Requirement already satisfied: pandas>=0.24.0 in /usr/local/lib/python3.7/dist-packages (from geopandas) (1.1.5)\n",
            "Requirement already satisfied: click>=4.0 in /usr/local/lib/python3.7/dist-packages (from fiona>=1.8->geopandas) (7.1.2)\n",
            "Requirement already satisfied: attrs>=17 in /usr/local/lib/python3.7/dist-packages (from fiona>=1.8->geopandas) (21.2.0)\n",
            "Requirement already satisfied: cligj>=0.5 in /usr/local/lib/python3.7/dist-packages (from fiona>=1.8->geopandas) (0.7.2)\n",
            "Requirement already satisfied: certifi in /usr/local/lib/python3.7/dist-packages (from fiona>=1.8->geopandas) (2021.5.30)\n",
            "Requirement already satisfied: six>=1.7 in /usr/local/lib/python3.7/dist-packages (from fiona>=1.8->geopandas) (1.15.0)\n",
            "Requirement already satisfied: munch in /usr/local/lib/python3.7/dist-packages (from fiona>=1.8->geopandas) (2.5.0)\n",
            "Requirement already satisfied: setuptools in /usr/local/lib/python3.7/dist-packages (from fiona>=1.8->geopandas) (57.4.0)\n",
            "Requirement already satisfied: click-plugins>=1.0 in /usr/local/lib/python3.7/dist-packages (from fiona>=1.8->geopandas) (1.1.1)\n",
            "Requirement already satisfied: pytz>=2017.2 in /usr/local/lib/python3.7/dist-packages (from pandas>=0.24.0->geopandas) (2018.9)\n",
            "Requirement already satisfied: numpy>=1.15.4 in /usr/local/lib/python3.7/dist-packages (from pandas>=0.24.0->geopandas) (1.19.5)\n",
            "Requirement already satisfied: python-dateutil>=2.7.3 in /usr/local/lib/python3.7/dist-packages (from pandas>=0.24.0->geopandas) (2.8.2)\n",
            "Requirement already satisfied: geopy in /usr/local/lib/python3.7/dist-packages (1.17.0)\n",
            "Requirement already satisfied: geographiclib<2,>=1.49 in /usr/local/lib/python3.7/dist-packages (from geopy) (1.52)\n",
            "Requirement already satisfied: folium in /usr/local/lib/python3.7/dist-packages (0.8.3)\n",
            "Requirement already satisfied: requests in /usr/local/lib/python3.7/dist-packages (from folium) (2.23.0)\n",
            "Requirement already satisfied: numpy in /usr/local/lib/python3.7/dist-packages (from folium) (1.19.5)\n",
            "Requirement already satisfied: six in /usr/local/lib/python3.7/dist-packages (from folium) (1.15.0)\n",
            "Requirement already satisfied: jinja2 in /usr/local/lib/python3.7/dist-packages (from folium) (2.11.3)\n",
            "Requirement already satisfied: branca>=0.3.0 in /usr/local/lib/python3.7/dist-packages (from folium) (0.4.2)\n",
            "Requirement already satisfied: MarkupSafe>=0.23 in /usr/local/lib/python3.7/dist-packages (from jinja2->folium) (2.0.1)\n",
            "Requirement already satisfied: idna<3,>=2.5 in /usr/local/lib/python3.7/dist-packages (from requests->folium) (2.10)\n",
            "Requirement already satisfied: certifi>=2017.4.17 in /usr/local/lib/python3.7/dist-packages (from requests->folium) (2021.5.30)\n",
            "Requirement already satisfied: urllib3!=1.25.0,!=1.25.1,<1.26,>=1.21.1 in /usr/local/lib/python3.7/dist-packages (from requests->folium) (1.24.3)\n",
            "Requirement already satisfied: chardet<4,>=3.0.2 in /usr/local/lib/python3.7/dist-packages (from requests->folium) (3.0.4)\n"
          ]
        }
      ]
    },
    {
      "cell_type": "code",
      "metadata": {
        "id": "KzDj661VuLeu"
      },
      "source": [
        "# Bibliotecas\n",
        "import geopandas as gpd\n",
        "import pandas as pd\n",
        "import folium"
      ],
      "execution_count": null,
      "outputs": []
    },
    {
      "cell_type": "code",
      "metadata": {
        "colab": {
          "base_uri": "https://localhost:8080/",
          "height": 206
        },
        "id": "S7RgJf-kufKq",
        "outputId": "8e9b559d-a279-409b-90c0-ec9d80702cd3"
      },
      "source": [
        "# Leitura do arquivo\n",
        "ceps = pd.read_csv('cep.csv')\n",
        "ceps = ceps.fillna(\" \")\n",
        "ceps.head()"
      ],
      "execution_count": null,
      "outputs": [
        {
          "output_type": "execute_result",
          "data": {
            "text/html": [
              "<div>\n",
              "<style scoped>\n",
              "    .dataframe tbody tr th:only-of-type {\n",
              "        vertical-align: middle;\n",
              "    }\n",
              "\n",
              "    .dataframe tbody tr th {\n",
              "        vertical-align: top;\n",
              "    }\n",
              "\n",
              "    .dataframe thead th {\n",
              "        text-align: right;\n",
              "    }\n",
              "</style>\n",
              "<table border=\"1\" class=\"dataframe\">\n",
              "  <thead>\n",
              "    <tr style=\"text-align: right;\">\n",
              "      <th></th>\n",
              "      <th>Cep</th>\n",
              "      <th>estado</th>\n",
              "      <th>endereco</th>\n",
              "      <th>descr</th>\n",
              "    </tr>\n",
              "  </thead>\n",
              "  <tbody>\n",
              "    <tr>\n",
              "      <th>0</th>\n",
              "      <td>70767510</td>\n",
              "      <td>São Paulo/SP</td>\n",
              "      <td>Rua Norberto Martins Ribeiro</td>\n",
              "      <td></td>\n",
              "    </tr>\n",
              "    <tr>\n",
              "      <th>1</th>\n",
              "      <td>70767520</td>\n",
              "      <td>São Paulo/SP</td>\n",
              "      <td>Rua Milton Daniels</td>\n",
              "      <td></td>\n",
              "    </tr>\n",
              "    <tr>\n",
              "      <th>2</th>\n",
              "      <td>70767530</td>\n",
              "      <td>São Paulo/SP</td>\n",
              "      <td>Rua Hermenegildo Martini</td>\n",
              "      <td></td>\n",
              "    </tr>\n",
              "    <tr>\n",
              "      <th>3</th>\n",
              "      <td>70767540</td>\n",
              "      <td>São Paulo/SP</td>\n",
              "      <td>Rua Fernando Melão Martini</td>\n",
              "      <td></td>\n",
              "    </tr>\n",
              "    <tr>\n",
              "      <th>4</th>\n",
              "      <td>70767550</td>\n",
              "      <td>São Paulo/SP</td>\n",
              "      <td>Rua David Eid, 1907</td>\n",
              "      <td>Condomínio Villagio de San Remo</td>\n",
              "    </tr>\n",
              "  </tbody>\n",
              "</table>\n",
              "</div>"
            ],
            "text/plain": [
              "        Cep  ...                             descr\n",
              "0  70767510  ...                                  \n",
              "1  70767520  ...                                  \n",
              "2  70767530  ...                                  \n",
              "3  70767540  ...                                  \n",
              "4  70767550  ...   Condomínio Villagio de San Remo\n",
              "\n",
              "[5 rows x 4 columns]"
            ]
          },
          "metadata": {},
          "execution_count": 56
        }
      ]
    },
    {
      "cell_type": "code",
      "metadata": {
        "id": "xZzy0JGE4NwC"
      },
      "source": [
        "# Concatenando as colunas endereço e estado\n",
        "ceps['end'] = ceps[['endereco','estado']].agg(','.join,axis=1)"
      ],
      "execution_count": null,
      "outputs": []
    },
    {
      "cell_type": "code",
      "metadata": {
        "colab": {
          "base_uri": "https://localhost:8080/",
          "height": 206
        },
        "id": "O8tjabkWx4on",
        "outputId": "0fa954d4-3e2b-4bc0-ee6b-4f964df1109c"
      },
      "source": [
        "# Rodando o geocoder\n",
        "geo = gpd.tools.geocode(cp['end'], provider = 'nominatim', user_agent='Gustavo', country_bias='Brazil')\n",
        "geo.head()"
      ],
      "execution_count": null,
      "outputs": [
        {
          "output_type": "execute_result",
          "data": {
            "text/html": [
              "<div>\n",
              "<style scoped>\n",
              "    .dataframe tbody tr th:only-of-type {\n",
              "        vertical-align: middle;\n",
              "    }\n",
              "\n",
              "    .dataframe tbody tr th {\n",
              "        vertical-align: top;\n",
              "    }\n",
              "\n",
              "    .dataframe thead th {\n",
              "        text-align: right;\n",
              "    }\n",
              "</style>\n",
              "<table border=\"1\" class=\"dataframe\">\n",
              "  <thead>\n",
              "    <tr style=\"text-align: right;\">\n",
              "      <th></th>\n",
              "      <th>geometry</th>\n",
              "      <th>address</th>\n",
              "    </tr>\n",
              "  </thead>\n",
              "  <tbody>\n",
              "    <tr>\n",
              "      <th>0</th>\n",
              "      <td>POINT (-46.66694 -23.67499)</td>\n",
              "      <td>Rua Norberto Martins Ribeiro, Vila Jardim Mart...</td>\n",
              "    </tr>\n",
              "    <tr>\n",
              "      <th>1</th>\n",
              "      <td>POINT (-46.66687 -23.67439)</td>\n",
              "      <td>Rua Milton Daniels, Vila Jardim Martini, Cidad...</td>\n",
              "    </tr>\n",
              "    <tr>\n",
              "      <th>2</th>\n",
              "      <td>POINT (-46.66498 -23.67685)</td>\n",
              "      <td>Rua Hermenegildo Martini, Cidade Ademar, São P...</td>\n",
              "    </tr>\n",
              "    <tr>\n",
              "      <th>3</th>\n",
              "      <td>POINT (-46.66645 -23.67322)</td>\n",
              "      <td>Rua Fernando Melão Martini, Vila Jardim Martin...</td>\n",
              "    </tr>\n",
              "    <tr>\n",
              "      <th>4</th>\n",
              "      <td>POINT (-46.66989 -23.67441)</td>\n",
              "      <td>Rua David Eid, Vila Arriete, Campo Grande, São...</td>\n",
              "    </tr>\n",
              "  </tbody>\n",
              "</table>\n",
              "</div>"
            ],
            "text/plain": [
              "                      geometry                                            address\n",
              "0  POINT (-46.66694 -23.67499)  Rua Norberto Martins Ribeiro, Vila Jardim Mart...\n",
              "1  POINT (-46.66687 -23.67439)  Rua Milton Daniels, Vila Jardim Martini, Cidad...\n",
              "2  POINT (-46.66498 -23.67685)  Rua Hermenegildo Martini, Cidade Ademar, São P...\n",
              "3  POINT (-46.66645 -23.67322)  Rua Fernando Melão Martini, Vila Jardim Martin...\n",
              "4  POINT (-46.66989 -23.67441)  Rua David Eid, Vila Arriete, Campo Grande, São..."
            ]
          },
          "metadata": {},
          "execution_count": 54
        }
      ]
    },
    {
      "cell_type": "code",
      "metadata": {
        "colab": {
          "base_uri": "https://localhost:8080/",
          "height": 787
        },
        "id": "VDmimQZZyNoY",
        "outputId": "a45e2533-eb6b-4873-ec58-96b858b2d36c"
      },
      "source": [
        "# Visualizando o resultado\n",
        "pts = folium.features.GeoJson(geo)\n",
        "m = folium.Map(location=[-23,-47],\n",
        "               zoom_start=10, control_scale=True)\n",
        "pts.add_to(m)\n",
        "m"
      ],
      "execution_count": null,
      "outputs": [
        {
          "output_type": "execute_result",
          "data": {
            "text/html": [
              "<div style=\"width:100%;\"><div style=\"position:relative;width:100%;height:0;padding-bottom:60%;\"><span style=\"color:#565656\">Make this Notebook Trusted to load map: File -> Trust Notebook</span><iframe src=\"about:blank\" style=\"position:absolute;width:100%;height:100%;left:0;top:0;border:none !important;\" data-html=%3C%21DOCTYPE%20html%3E%0A%3Chead%3E%20%20%20%20%0A%20%20%20%20%3Cmeta%20http-equiv%3D%22content-type%22%20content%3D%22text/html%3B%20charset%3DUTF-8%22%20/%3E%0A%20%20%20%20%3Cscript%3EL_PREFER_CANVAS%3Dfalse%3B%20L_NO_TOUCH%3Dfalse%3B%20L_DISABLE_3D%3Dfalse%3B%3C/script%3E%0A%20%20%20%20%3Cscript%20src%3D%22https%3A//cdn.jsdelivr.net/npm/leaflet%401.4.0/dist/leaflet.js%22%3E%3C/script%3E%0A%20%20%20%20%3Cscript%20src%3D%22https%3A//code.jquery.com/jquery-1.12.4.min.js%22%3E%3C/script%3E%0A%20%20%20%20%3Cscript%20src%3D%22https%3A//maxcdn.bootstrapcdn.com/bootstrap/3.2.0/js/bootstrap.min.js%22%3E%3C/script%3E%0A%20%20%20%20%3Cscript%20src%3D%22https%3A//cdnjs.cloudflare.com/ajax/libs/Leaflet.awesome-markers/2.0.2/leaflet.awesome-markers.js%22%3E%3C/script%3E%0A%20%20%20%20%3Clink%20rel%3D%22stylesheet%22%20href%3D%22https%3A//cdn.jsdelivr.net/npm/leaflet%401.4.0/dist/leaflet.css%22/%3E%0A%20%20%20%20%3Clink%20rel%3D%22stylesheet%22%20href%3D%22https%3A//maxcdn.bootstrapcdn.com/bootstrap/3.2.0/css/bootstrap.min.css%22/%3E%0A%20%20%20%20%3Clink%20rel%3D%22stylesheet%22%20href%3D%22https%3A//maxcdn.bootstrapcdn.com/bootstrap/3.2.0/css/bootstrap-theme.min.css%22/%3E%0A%20%20%20%20%3Clink%20rel%3D%22stylesheet%22%20href%3D%22https%3A//maxcdn.bootstrapcdn.com/font-awesome/4.6.3/css/font-awesome.min.css%22/%3E%0A%20%20%20%20%3Clink%20rel%3D%22stylesheet%22%20href%3D%22https%3A//cdnjs.cloudflare.com/ajax/libs/Leaflet.awesome-markers/2.0.2/leaflet.awesome-markers.css%22/%3E%0A%20%20%20%20%3Clink%20rel%3D%22stylesheet%22%20href%3D%22https%3A//rawcdn.githack.com/python-visualization/folium/master/folium/templates/leaflet.awesome.rotate.css%22/%3E%0A%20%20%20%20%3Cstyle%3Ehtml%2C%20body%20%7Bwidth%3A%20100%25%3Bheight%3A%20100%25%3Bmargin%3A%200%3Bpadding%3A%200%3B%7D%3C/style%3E%0A%20%20%20%20%3Cstyle%3E%23map%20%7Bposition%3Aabsolute%3Btop%3A0%3Bbottom%3A0%3Bright%3A0%3Bleft%3A0%3B%7D%3C/style%3E%0A%20%20%20%20%0A%20%20%20%20%3Cmeta%20name%3D%22viewport%22%20content%3D%22width%3Ddevice-width%2C%0A%20%20%20%20%20%20%20%20initial-scale%3D1.0%2C%20maximum-scale%3D1.0%2C%20user-scalable%3Dno%22%20/%3E%0A%20%20%20%20%3Cstyle%3E%23map_bec55f78d2094c68b826983c15b015d3%20%7B%0A%20%20%20%20%20%20%20%20position%3A%20relative%3B%0A%20%20%20%20%20%20%20%20width%3A%20100.0%25%3B%0A%20%20%20%20%20%20%20%20height%3A%20100.0%25%3B%0A%20%20%20%20%20%20%20%20left%3A%200.0%25%3B%0A%20%20%20%20%20%20%20%20top%3A%200.0%25%3B%0A%20%20%20%20%20%20%20%20%7D%0A%20%20%20%20%3C/style%3E%0A%3C/head%3E%0A%3Cbody%3E%20%20%20%20%0A%20%20%20%20%0A%20%20%20%20%3Cdiv%20class%3D%22folium-map%22%20id%3D%22map_bec55f78d2094c68b826983c15b015d3%22%20%3E%3C/div%3E%0A%3C/body%3E%0A%3Cscript%3E%20%20%20%20%0A%20%20%20%20%0A%20%20%20%20%0A%20%20%20%20%20%20%20%20var%20bounds%20%3D%20null%3B%0A%20%20%20%20%0A%0A%20%20%20%20var%20map_bec55f78d2094c68b826983c15b015d3%20%3D%20L.map%28%0A%20%20%20%20%20%20%20%20%27map_bec55f78d2094c68b826983c15b015d3%27%2C%20%7B%0A%20%20%20%20%20%20%20%20center%3A%20%5B-23%2C%20-47%5D%2C%0A%20%20%20%20%20%20%20%20zoom%3A%2010%2C%0A%20%20%20%20%20%20%20%20maxBounds%3A%20bounds%2C%0A%20%20%20%20%20%20%20%20layers%3A%20%5B%5D%2C%0A%20%20%20%20%20%20%20%20worldCopyJump%3A%20false%2C%0A%20%20%20%20%20%20%20%20crs%3A%20L.CRS.EPSG3857%2C%0A%20%20%20%20%20%20%20%20zoomControl%3A%20true%2C%0A%20%20%20%20%20%20%20%20%7D%29%3B%0AL.control.scale%28%29.addTo%28map_bec55f78d2094c68b826983c15b015d3%29%3B%0A%0A%20%20%20%20%0A%20%20%20%20var%20tile_layer_1b65291ab6c84a0d8e033b7cc8252210%20%3D%20L.tileLayer%28%0A%20%20%20%20%20%20%20%20%27https%3A//%7Bs%7D.tile.openstreetmap.org/%7Bz%7D/%7Bx%7D/%7By%7D.png%27%2C%0A%20%20%20%20%20%20%20%20%7B%0A%20%20%20%20%20%20%20%20%22attribution%22%3A%20null%2C%0A%20%20%20%20%20%20%20%20%22detectRetina%22%3A%20false%2C%0A%20%20%20%20%20%20%20%20%22maxNativeZoom%22%3A%2018%2C%0A%20%20%20%20%20%20%20%20%22maxZoom%22%3A%2018%2C%0A%20%20%20%20%20%20%20%20%22minZoom%22%3A%200%2C%0A%20%20%20%20%20%20%20%20%22noWrap%22%3A%20false%2C%0A%20%20%20%20%20%20%20%20%22opacity%22%3A%201%2C%0A%20%20%20%20%20%20%20%20%22subdomains%22%3A%20%22abc%22%2C%0A%20%20%20%20%20%20%20%20%22tms%22%3A%20false%0A%7D%29.addTo%28map_bec55f78d2094c68b826983c15b015d3%29%3B%0A%20%20%20%20%0A%20%20%20%20%20%20%20%20var%20geo_json_9f65532d41f54677aa19aadf2b5b21f8%20%3D%20L.geoJson%28%0A%20%20%20%20%20%20%20%20%20%20%20%20%7B%22bbox%22%3A%20%5B-46.8710051%2C%20-23.6921447%2C%20-45.9188445%2C%20-23.2374417%5D%2C%20%22features%22%3A%20%5B%7B%22bbox%22%3A%20%5B-46.6669419%2C%20-23.6749935%2C%20-46.6669419%2C%20-23.6749935%5D%2C%20%22geometry%22%3A%20%7B%22coordinates%22%3A%20%5B-46.6669419%2C%20-23.6749935%5D%2C%20%22type%22%3A%20%22Point%22%7D%2C%20%22id%22%3A%20%220%22%2C%20%22properties%22%3A%20%7B%22address%22%3A%20%22Rua%20Norberto%20Martins%20Ribeiro%2C%20Vila%20Jardim%20Martini%2C%20Cidade%20Ademar%2C%20S%5Cu00e3o%20Paulo%2C%20Regi%5Cu00e3o%20Imediata%20de%20S%5Cu00e3o%20Paulo%2C%20Regi%5Cu00e3o%20Metropolitana%20de%20S%5Cu00e3o%20Paulo%2C%20Regi%5Cu00e3o%20Geogr%5Cu00e1fica%20Intermedi%5Cu00e1ria%20de%20S%5Cu00e3o%20Paulo%2C%20S%5Cu00e3o%20Paulo%2C%20Regi%5Cu00e3o%20Sudeste%2C%2004657-001%2C%20Brasil%22%2C%20%22highlight%22%3A%20%7B%7D%2C%20%22style%22%3A%20%7B%7D%7D%2C%20%22type%22%3A%20%22Feature%22%7D%2C%20%7B%22bbox%22%3A%20%5B-46.6668749%2C%20-23.6743867%2C%20-46.6668749%2C%20-23.6743867%5D%2C%20%22geometry%22%3A%20%7B%22coordinates%22%3A%20%5B-46.6668749%2C%20-23.6743867%5D%2C%20%22type%22%3A%20%22Point%22%7D%2C%20%22id%22%3A%20%221%22%2C%20%22properties%22%3A%20%7B%22address%22%3A%20%22Rua%20Milton%20Daniels%2C%20Vila%20Jardim%20Martini%2C%20Cidade%20Ademar%2C%20S%5Cu00e3o%20Paulo%2C%20Regi%5Cu00e3o%20Imediata%20de%20S%5Cu00e3o%20Paulo%2C%20Regi%5Cu00e3o%20Metropolitana%20de%20S%5Cu00e3o%20Paulo%2C%20Regi%5Cu00e3o%20Geogr%5Cu00e1fica%20Intermedi%5Cu00e1ria%20de%20S%5Cu00e3o%20Paulo%2C%20S%5Cu00e3o%20Paulo%2C%20Regi%5Cu00e3o%20Sudeste%2C%2004657-001%2C%20Brasil%22%2C%20%22highlight%22%3A%20%7B%7D%2C%20%22style%22%3A%20%7B%7D%7D%2C%20%22type%22%3A%20%22Feature%22%7D%2C%20%7B%22bbox%22%3A%20%5B-46.6649786%2C%20-23.6768463%2C%20-46.6649786%2C%20-23.6768463%5D%2C%20%22geometry%22%3A%20%7B%22coordinates%22%3A%20%5B-46.6649786%2C%20-23.6768463%5D%2C%20%22type%22%3A%20%22Point%22%7D%2C%20%22id%22%3A%20%222%22%2C%20%22properties%22%3A%20%7B%22address%22%3A%20%22Rua%20Hermenegildo%20Martini%2C%20Cidade%20Ademar%2C%20S%5Cu00e3o%20Paulo%2C%20Regi%5Cu00e3o%20Imediata%20de%20S%5Cu00e3o%20Paulo%2C%20Regi%5Cu00e3o%20Metropolitana%20de%20S%5Cu00e3o%20Paulo%2C%20Regi%5Cu00e3o%20Geogr%5Cu00e1fica%20Intermedi%5Cu00e1ria%20de%20S%5Cu00e3o%20Paulo%2C%20S%5Cu00e3o%20Paulo%2C%20Regi%5Cu00e3o%20Sudeste%2C%2004403-310%2C%20Brasil%22%2C%20%22highlight%22%3A%20%7B%7D%2C%20%22style%22%3A%20%7B%7D%7D%2C%20%22type%22%3A%20%22Feature%22%7D%2C%20%7B%22bbox%22%3A%20%5B-46.6664521%2C%20-23.6732245%2C%20-46.6664521%2C%20-23.6732245%5D%2C%20%22geometry%22%3A%20%7B%22coordinates%22%3A%20%5B-46.6664521%2C%20-23.6732245%5D%2C%20%22type%22%3A%20%22Point%22%7D%2C%20%22id%22%3A%20%223%22%2C%20%22properties%22%3A%20%7B%22address%22%3A%20%22Rua%20Fernando%20Mel%5Cu00e3o%20Martini%2C%20Vila%20Jardim%20Martini%2C%20Cidade%20Ademar%2C%20S%5Cu00e3o%20Paulo%2C%20Regi%5Cu00e3o%20Imediata%20de%20S%5Cu00e3o%20Paulo%2C%20Regi%5Cu00e3o%20Metropolitana%20de%20S%5Cu00e3o%20Paulo%2C%20Regi%5Cu00e3o%20Geogr%5Cu00e1fica%20Intermedi%5Cu00e1ria%20de%20S%5Cu00e3o%20Paulo%2C%20S%5Cu00e3o%20Paulo%2C%20Regi%5Cu00e3o%20Sudeste%2C%2004657-001%2C%20Brasil%22%2C%20%22highlight%22%3A%20%7B%7D%2C%20%22style%22%3A%20%7B%7D%7D%2C%20%22type%22%3A%20%22Feature%22%7D%2C%20%7B%22bbox%22%3A%20%5B-46.6698911%2C%20-23.6744114%2C%20-46.6698911%2C%20-23.6744114%5D%2C%20%22geometry%22%3A%20%7B%22coordinates%22%3A%20%5B-46.6698911%2C%20-23.6744114%5D%2C%20%22type%22%3A%20%22Point%22%7D%2C%20%22id%22%3A%20%224%22%2C%20%22properties%22%3A%20%7B%22address%22%3A%20%22Rua%20David%20Eid%2C%20Vila%20Arriete%2C%20Campo%20Grande%2C%20S%5Cu00e3o%20Paulo%2C%20Regi%5Cu00e3o%20Imediata%20de%20S%5Cu00e3o%20Paulo%2C%20Regi%5Cu00e3o%20Metropolitana%20de%20S%5Cu00e3o%20Paulo%2C%20Regi%5Cu00e3o%20Geogr%5Cu00e1fica%20Intermedi%5Cu00e1ria%20de%20S%5Cu00e3o%20Paulo%2C%20S%5Cu00e3o%20Paulo%2C%20Regi%5Cu00e3o%20Sudeste%2C%2004657-001%2C%20Brasil%22%2C%20%22highlight%22%3A%20%7B%7D%2C%20%22style%22%3A%20%7B%7D%7D%2C%20%22type%22%3A%20%22Feature%22%7D%2C%20%7B%22bbox%22%3A%20%5B-45.9188445%2C%20-23.2374417%2C%20-45.9188445%2C%20-23.2374417%5D%2C%20%22geometry%22%3A%20%7B%22coordinates%22%3A%20%5B-45.9188445%2C%20-23.2374417%5D%2C%20%22type%22%3A%20%22Point%22%7D%2C%20%22id%22%3A%20%225%22%2C%20%22properties%22%3A%20%7B%22address%22%3A%20%22Rodovia%20Presidente%20Dutra%2C%20Palmeiras%20de%20S%5Cu00e3o%20Jos%5Cu00e9%2C%20S%5Cu00e3o%20Jos%5Cu00e9%20dos%20Campos%2C%20Regi%5Cu00e3o%20Imediata%20de%20S%5Cu00e3o%20Jos%5Cu00e9%20dos%20Campos%2C%20Regi%5Cu00e3o%20Metropolitana%20do%20Vale%20do%20Para%5Cu00edba%20e%20Litoral%20Norte%2C%20Regi%5Cu00e3o%20Geogr%5Cu00e1fica%20Intermedi%5Cu00e1ria%20de%20S%5Cu00e3o%20Jos%5Cu00e9%20dos%20Campos%2C%20S%5Cu00e3o%20Paulo%2C%20Regi%5Cu00e3o%20Sudeste%2C%2012237-640%2C%20Brasil%22%2C%20%22highlight%22%3A%20%7B%7D%2C%20%22style%22%3A%20%7B%7D%7D%2C%20%22type%22%3A%20%22Feature%22%7D%2C%20%7B%22bbox%22%3A%20null%2C%20%22geometry%22%3A%20null%2C%20%22id%22%3A%20%226%22%2C%20%22properties%22%3A%20%7B%22address%22%3A%20null%2C%20%22highlight%22%3A%20%7B%7D%2C%20%22style%22%3A%20%7B%7D%7D%2C%20%22type%22%3A%20%22Feature%22%7D%2C%20%7B%22bbox%22%3A%20%5B-46.668621%2C%20-23.6812242%2C%20-46.668621%2C%20-23.6812242%5D%2C%20%22geometry%22%3A%20%7B%22coordinates%22%3A%20%5B-46.668621%2C%20-23.6812242%5D%2C%20%22type%22%3A%20%22Point%22%7D%2C%20%22id%22%3A%20%227%22%2C%20%22properties%22%3A%20%7B%22address%22%3A%20%22Rua%20Ang%5Cu00e9lica%20Catalani%2C%20Cidade%20Ademar%2C%20S%5Cu00e3o%20Paulo%2C%20Regi%5Cu00e3o%20Imediata%20de%20S%5Cu00e3o%20Paulo%2C%20Regi%5Cu00e3o%20Metropolitana%20de%20S%5Cu00e3o%20Paulo%2C%20Regi%5Cu00e3o%20Geogr%5Cu00e1fica%20Intermedi%5Cu00e1ria%20de%20S%5Cu00e3o%20Paulo%2C%20S%5Cu00e3o%20Paulo%2C%20Regi%5Cu00e3o%20Sudeste%2C%2004439-010%2C%20Brasil%22%2C%20%22highlight%22%3A%20%7B%7D%2C%20%22style%22%3A%20%7B%7D%7D%2C%20%22type%22%3A%20%22Feature%22%7D%2C%20%7B%22bbox%22%3A%20%5B-46.6674927%2C%20-23.6789081%2C%20-46.6674927%2C%20-23.6789081%5D%2C%20%22geometry%22%3A%20%7B%22coordinates%22%3A%20%5B-46.6674927%2C%20-23.6789081%5D%2C%20%22type%22%3A%20%22Point%22%7D%2C%20%22id%22%3A%20%228%22%2C%20%22properties%22%3A%20%7B%22address%22%3A%20%22Rua%20Leon%20Carvalho%2C%20Cidade%20Ademar%2C%20S%5Cu00e3o%20Paulo%2C%20Regi%5Cu00e3o%20Imediata%20de%20S%5Cu00e3o%20Paulo%2C%20Regi%5Cu00e3o%20Metropolitana%20de%20S%5Cu00e3o%20Paulo%2C%20Regi%5Cu00e3o%20Geogr%5Cu00e1fica%20Intermedi%5Cu00e1ria%20de%20S%5Cu00e3o%20Paulo%2C%20S%5Cu00e3o%20Paulo%2C%20Regi%5Cu00e3o%20Sudeste%2C%2004439-010%2C%20Brasil%22%2C%20%22highlight%22%3A%20%7B%7D%2C%20%22style%22%3A%20%7B%7D%7D%2C%20%22type%22%3A%20%22Feature%22%7D%2C%20%7B%22bbox%22%3A%20null%2C%20%22geometry%22%3A%20null%2C%20%22id%22%3A%20%229%22%2C%20%22properties%22%3A%20%7B%22address%22%3A%20null%2C%20%22highlight%22%3A%20%7B%7D%2C%20%22style%22%3A%20%7B%7D%7D%2C%20%22type%22%3A%20%22Feature%22%7D%2C%20%7B%22bbox%22%3A%20null%2C%20%22geometry%22%3A%20null%2C%20%22id%22%3A%20%2210%22%2C%20%22properties%22%3A%20%7B%22address%22%3A%20null%2C%20%22highlight%22%3A%20%7B%7D%2C%20%22style%22%3A%20%7B%7D%7D%2C%20%22type%22%3A%20%22Feature%22%7D%2C%20%7B%22bbox%22%3A%20null%2C%20%22geometry%22%3A%20null%2C%20%22id%22%3A%20%2211%22%2C%20%22properties%22%3A%20%7B%22address%22%3A%20null%2C%20%22highlight%22%3A%20%7B%7D%2C%20%22style%22%3A%20%7B%7D%7D%2C%20%22type%22%3A%20%22Feature%22%7D%2C%20%7B%22bbox%22%3A%20null%2C%20%22geometry%22%3A%20null%2C%20%22id%22%3A%20%2212%22%2C%20%22properties%22%3A%20%7B%22address%22%3A%20null%2C%20%22highlight%22%3A%20%7B%7D%2C%20%22style%22%3A%20%7B%7D%7D%2C%20%22type%22%3A%20%22Feature%22%7D%2C%20%7B%22bbox%22%3A%20%5B-46.6660747%2C%20-23.6751125%2C%20-46.6660747%2C%20-23.6751125%5D%2C%20%22geometry%22%3A%20%7B%22coordinates%22%3A%20%5B-46.6660747%2C%20-23.6751125%5D%2C%20%22type%22%3A%20%22Point%22%7D%2C%20%22id%22%3A%20%2213%22%2C%20%22properties%22%3A%20%7B%22address%22%3A%20%22Rua%20Engenheiro%20Jo%5Cu00e3o%20Lang%2C%20Cidade%20Ademar%2C%20S%5Cu00e3o%20Paulo%2C%20Regi%5Cu00e3o%20Imediata%20de%20S%5Cu00e3o%20Paulo%2C%20Regi%5Cu00e3o%20Metropolitana%20de%20S%5Cu00e3o%20Paulo%2C%20Regi%5Cu00e3o%20Geogr%5Cu00e1fica%20Intermedi%5Cu00e1ria%20de%20S%5Cu00e3o%20Paulo%2C%20S%5Cu00e3o%20Paulo%2C%20Regi%5Cu00e3o%20Sudeste%2C%2004403-310%2C%20Brasil%22%2C%20%22highlight%22%3A%20%7B%7D%2C%20%22style%22%3A%20%7B%7D%7D%2C%20%22type%22%3A%20%22Feature%22%7D%2C%20%7B%22bbox%22%3A%20%5B-46.6667045%2C%20-23.6766072%2C%20-46.6667045%2C%20-23.6766072%5D%2C%20%22geometry%22%3A%20%7B%22coordinates%22%3A%20%5B-46.6667045%2C%20-23.6766072%5D%2C%20%22type%22%3A%20%22Point%22%7D%2C%20%22id%22%3A%20%2214%22%2C%20%22properties%22%3A%20%7B%22address%22%3A%20%22Rua%20Jos%5Cu00e9%20Moreira%20dos%20Santos%2C%20Cidade%20Ademar%2C%20S%5Cu00e3o%20Paulo%2C%20Regi%5Cu00e3o%20Imediata%20de%20S%5Cu00e3o%20Paulo%2C%20Regi%5Cu00e3o%20Metropolitana%20de%20S%5Cu00e3o%20Paulo%2C%20Regi%5Cu00e3o%20Geogr%5Cu00e1fica%20Intermedi%5Cu00e1ria%20de%20S%5Cu00e3o%20Paulo%2C%20S%5Cu00e3o%20Paulo%2C%20Regi%5Cu00e3o%20Sudeste%2C%2004439-010%2C%20Brasil%22%2C%20%22highlight%22%3A%20%7B%7D%2C%20%22style%22%3A%20%7B%7D%7D%2C%20%22type%22%3A%20%22Feature%22%7D%2C%20%7B%22bbox%22%3A%20%5B-46.6883631%2C%20-23.6885923%2C%20-46.6883631%2C%20-23.6885923%5D%2C%20%22geometry%22%3A%20%7B%22coordinates%22%3A%20%5B-46.6883631%2C%20-23.6885923%5D%2C%20%22type%22%3A%20%22Point%22%7D%2C%20%22id%22%3A%20%2215%22%2C%20%22properties%22%3A%20%7B%22address%22%3A%20%22Rua%20Miguel%20Yunes%2C%20Vila%20Arriete%2C%20Campo%20Grande%2C%20S%5Cu00e3o%20Paulo%2C%20Regi%5Cu00e3o%20Imediata%20de%20S%5Cu00e3o%20Paulo%2C%20Regi%5Cu00e3o%20Metropolitana%20de%20S%5Cu00e3o%20Paulo%2C%20Regi%5Cu00e3o%20Geogr%5Cu00e1fica%20Intermedi%5Cu00e1ria%20de%20S%5Cu00e3o%20Paulo%2C%20S%5Cu00e3o%20Paulo%2C%20Regi%5Cu00e3o%20Sudeste%2C%2004444-000%2C%20Brasil%22%2C%20%22highlight%22%3A%20%7B%7D%2C%20%22style%22%3A%20%7B%7D%7D%2C%20%22type%22%3A%20%22Feature%22%7D%2C%20%7B%22bbox%22%3A%20null%2C%20%22geometry%22%3A%20null%2C%20%22id%22%3A%20%2216%22%2C%20%22properties%22%3A%20%7B%22address%22%3A%20null%2C%20%22highlight%22%3A%20%7B%7D%2C%20%22style%22%3A%20%7B%7D%7D%2C%20%22type%22%3A%20%22Feature%22%7D%2C%20%7B%22bbox%22%3A%20%5B-46.6855476%2C%20-23.6921447%2C%20-46.6855476%2C%20-23.6921447%5D%2C%20%22geometry%22%3A%20%7B%22coordinates%22%3A%20%5B-46.6855476%2C%20-23.6921447%5D%2C%20%22type%22%3A%20%22Point%22%7D%2C%20%22id%22%3A%20%2217%22%2C%20%22properties%22%3A%20%7B%22address%22%3A%20%22Rua%20Zacarias%20D%27A%5Cu00e7a%2C%20Vila%20Arriete%2C%20Campo%20Grande%2C%20S%5Cu00e3o%20Paulo%2C%20Regi%5Cu00e3o%20Imediata%20de%20S%5Cu00e3o%20Paulo%2C%20Regi%5Cu00e3o%20Metropolitana%20de%20S%5Cu00e3o%20Paulo%2C%20Regi%5Cu00e3o%20Geogr%5Cu00e1fica%20Intermedi%5Cu00e1ria%20de%20S%5Cu00e3o%20Paulo%2C%20S%5Cu00e3o%20Paulo%2C%20Regi%5Cu00e3o%20Sudeste%2C%2004446060%2C%20Brasil%22%2C%20%22highlight%22%3A%20%7B%7D%2C%20%22style%22%3A%20%7B%7D%7D%2C%20%22type%22%3A%20%22Feature%22%7D%2C%20%7B%22bbox%22%3A%20%5B-45.9188445%2C%20-23.2374417%2C%20-45.9188445%2C%20-23.2374417%5D%2C%20%22geometry%22%3A%20%7B%22coordinates%22%3A%20%5B-45.9188445%2C%20-23.2374417%5D%2C%20%22type%22%3A%20%22Point%22%7D%2C%20%22id%22%3A%20%2218%22%2C%20%22properties%22%3A%20%7B%22address%22%3A%20%22Rodovia%20Presidente%20Dutra%2C%20Palmeiras%20de%20S%5Cu00e3o%20Jos%5Cu00e9%2C%20S%5Cu00e3o%20Jos%5Cu00e9%20dos%20Campos%2C%20Regi%5Cu00e3o%20Imediata%20de%20S%5Cu00e3o%20Jos%5Cu00e9%20dos%20Campos%2C%20Regi%5Cu00e3o%20Metropolitana%20do%20Vale%20do%20Para%5Cu00edba%20e%20Litoral%20Norte%2C%20Regi%5Cu00e3o%20Geogr%5Cu00e1fica%20Intermedi%5Cu00e1ria%20de%20S%5Cu00e3o%20Jos%5Cu00e9%20dos%20Campos%2C%20S%5Cu00e3o%20Paulo%2C%20Regi%5Cu00e3o%20Sudeste%2C%2012237-640%2C%20Brasil%22%2C%20%22highlight%22%3A%20%7B%7D%2C%20%22style%22%3A%20%7B%7D%7D%2C%20%22type%22%3A%20%22Feature%22%7D%2C%20%7B%22bbox%22%3A%20%5B-46.6860479%2C%20-23.6800771%2C%20-46.6860479%2C%20-23.6800771%5D%2C%20%22geometry%22%3A%20%7B%22coordinates%22%3A%20%5B-46.6860479%2C%20-23.6800771%5D%2C%20%22type%22%3A%20%22Point%22%7D%2C%20%22id%22%3A%20%2219%22%2C%20%22properties%22%3A%20%7B%22address%22%3A%20%22Rua%20Jos%5Cu00e9%20Paulino%20de%20Ara%5Cu00fajo%2C%20Campinha%2C%20Vila%20Arriete%2C%20Campo%20Grande%2C%20S%5Cu00e3o%20Paulo%2C%20Regi%5Cu00e3o%20Imediata%20de%20S%5Cu00e3o%20Paulo%2C%20Regi%5Cu00e3o%20Metropolitana%20de%20S%5Cu00e3o%20Paulo%2C%20Regi%5Cu00e3o%20Geogr%5Cu00e1fica%20Intermedi%5Cu00e1ria%20de%20S%5Cu00e3o%20Paulo%2C%20S%5Cu00e3o%20Paulo%2C%20Regi%5Cu00e3o%20Sudeste%2C%2004661-200%2C%20Brasil%22%2C%20%22highlight%22%3A%20%7B%7D%2C%20%22style%22%3A%20%7B%7D%7D%2C%20%22type%22%3A%20%22Feature%22%7D%2C%20%7B%22bbox%22%3A%20%5B-46.6863588%2C%20-23.6807981%2C%20-46.6863588%2C%20-23.6807981%5D%2C%20%22geometry%22%3A%20%7B%22coordinates%22%3A%20%5B-46.6863588%2C%20-23.6807981%5D%2C%20%22type%22%3A%20%22Point%22%7D%2C%20%22id%22%3A%20%2220%22%2C%20%22properties%22%3A%20%7B%22address%22%3A%20%22Rua%20Julieta%20de%20Ara%5Cu00fajo%20Almeida%2C%20Campinha%2C%20Vila%20Arriete%2C%20Campo%20Grande%2C%20S%5Cu00e3o%20Paulo%2C%20Regi%5Cu00e3o%20Imediata%20de%20S%5Cu00e3o%20Paulo%2C%20Regi%5Cu00e3o%20Metropolitana%20de%20S%5Cu00e3o%20Paulo%2C%20Regi%5Cu00e3o%20Geogr%5Cu00e1fica%20Intermedi%5Cu00e1ria%20de%20S%5Cu00e3o%20Paulo%2C%20S%5Cu00e3o%20Paulo%2C%20Regi%5Cu00e3o%20Sudeste%2C%2004661-200%2C%20Brasil%22%2C%20%22highlight%22%3A%20%7B%7D%2C%20%22style%22%3A%20%7B%7D%7D%2C%20%22type%22%3A%20%22Feature%22%7D%2C%20%7B%22bbox%22%3A%20%5B-46.6857735%2C%20-23.6805699%2C%20-46.6857735%2C%20-23.6805699%5D%2C%20%22geometry%22%3A%20%7B%22coordinates%22%3A%20%5B-46.6857735%2C%20-23.6805699%5D%2C%20%22type%22%3A%20%22Point%22%7D%2C%20%22id%22%3A%20%2221%22%2C%20%22properties%22%3A%20%7B%22address%22%3A%20%22Rua%20Afonso%20Ara%5Cu00fajo%20Almeida%2C%20Campinha%2C%20Vila%20Arriete%2C%20Campo%20Grande%2C%20S%5Cu00e3o%20Paulo%2C%20Regi%5Cu00e3o%20Imediata%20de%20S%5Cu00e3o%20Paulo%2C%20Regi%5Cu00e3o%20Metropolitana%20de%20S%5Cu00e3o%20Paulo%2C%20Regi%5Cu00e3o%20Geogr%5Cu00e1fica%20Intermedi%5Cu00e1ria%20de%20S%5Cu00e3o%20Paulo%2C%20S%5Cu00e3o%20Paulo%2C%20Regi%5Cu00e3o%20Sudeste%2C%2004661-200%2C%20Brasil%22%2C%20%22highlight%22%3A%20%7B%7D%2C%20%22style%22%3A%20%7B%7D%7D%2C%20%22type%22%3A%20%22Feature%22%7D%2C%20%7B%22bbox%22%3A%20%5B-46.6857735%2C%20-23.6805699%2C%20-46.6857735%2C%20-23.6805699%5D%2C%20%22geometry%22%3A%20%7B%22coordinates%22%3A%20%5B-46.6857735%2C%20-23.6805699%5D%2C%20%22type%22%3A%20%22Point%22%7D%2C%20%22id%22%3A%20%2222%22%2C%20%22properties%22%3A%20%7B%22address%22%3A%20%22Rua%20Jos%5Cu00e9%20Maria%20de%20Almeida%2C%20Campinha%2C%20Vila%20Arriete%2C%20Campo%20Grande%2C%20S%5Cu00e3o%20Paulo%2C%20Regi%5Cu00e3o%20Imediata%20de%20S%5Cu00e3o%20Paulo%2C%20Regi%5Cu00e3o%20Metropolitana%20de%20S%5Cu00e3o%20Paulo%2C%20Regi%5Cu00e3o%20Geogr%5Cu00e1fica%20Intermedi%5Cu00e1ria%20de%20S%5Cu00e3o%20Paulo%2C%20S%5Cu00e3o%20Paulo%2C%20Regi%5Cu00e3o%20Sudeste%2C%2004661-200%2C%20Brasil%22%2C%20%22highlight%22%3A%20%7B%7D%2C%20%22style%22%3A%20%7B%7D%7D%2C%20%22type%22%3A%20%22Feature%22%7D%2C%20%7B%22bbox%22%3A%20%5B-46.3595662%2C%20-23.481354%2C%20-46.3595662%2C%20-23.481354%5D%2C%20%22geometry%22%3A%20%7B%22coordinates%22%3A%20%5B-46.3595662%2C%20-23.481354%5D%2C%20%22type%22%3A%20%22Point%22%7D%2C%20%22id%22%3A%20%2223%22%2C%20%22properties%22%3A%20%7B%22address%22%3A%20%22Rua%20Itapu%5Cu00ed%2C%20Vila%20Gepina%2C%20Vila%20Virg%5Cu00ednia%2C%20Itaquaquecetuba%2C%20Regi%5Cu00e3o%20Imediata%20de%20S%5Cu00e3o%20Paulo%2C%20Regi%5Cu00e3o%20Metropolitana%20de%20S%5Cu00e3o%20Paulo%2C%20Regi%5Cu00e3o%20Geogr%5Cu00e1fica%20Intermedi%5Cu00e1ria%20de%20S%5Cu00e3o%20Paulo%2C%20S%5Cu00e3o%20Paulo%2C%20Regi%5Cu00e3o%20Sudeste%2C%2008576-015%2C%20Brasil%22%2C%20%22highlight%22%3A%20%7B%7D%2C%20%22style%22%3A%20%7B%7D%7D%2C%20%22type%22%3A%20%22Feature%22%7D%2C%20%7B%22bbox%22%3A%20%5B-46.6849684%2C%20-23.6814046%2C%20-46.6849684%2C%20-23.6814046%5D%2C%20%22geometry%22%3A%20%7B%22coordinates%22%3A%20%5B-46.6849684%2C%20-23.6814046%5D%2C%20%22type%22%3A%20%22Point%22%7D%2C%20%22id%22%3A%20%2224%22%2C%20%22properties%22%3A%20%7B%22address%22%3A%20%22Rua%20Alessandro%20Manzoni%2C%20Campinha%2C%20Vila%20Arriete%2C%20Campo%20Grande%2C%20S%5Cu00e3o%20Paulo%2C%20Regi%5Cu00e3o%20Imediata%20de%20S%5Cu00e3o%20Paulo%2C%20Regi%5Cu00e3o%20Metropolitana%20de%20S%5Cu00e3o%20Paulo%2C%20Regi%5Cu00e3o%20Geogr%5Cu00e1fica%20Intermedi%5Cu00e1ria%20de%20S%5Cu00e3o%20Paulo%2C%20S%5Cu00e3o%20Paulo%2C%20Regi%5Cu00e3o%20Sudeste%2C%2004661-200%2C%20Brasil%22%2C%20%22highlight%22%3A%20%7B%7D%2C%20%22style%22%3A%20%7B%7D%7D%2C%20%22type%22%3A%20%22Feature%22%7D%2C%20%7B%22bbox%22%3A%20null%2C%20%22geometry%22%3A%20null%2C%20%22id%22%3A%20%2225%22%2C%20%22properties%22%3A%20%7B%22address%22%3A%20null%2C%20%22highlight%22%3A%20%7B%7D%2C%20%22style%22%3A%20%7B%7D%7D%2C%20%22type%22%3A%20%22Feature%22%7D%2C%20%7B%22bbox%22%3A%20null%2C%20%22geometry%22%3A%20null%2C%20%22id%22%3A%20%2226%22%2C%20%22properties%22%3A%20%7B%22address%22%3A%20null%2C%20%22highlight%22%3A%20%7B%7D%2C%20%22style%22%3A%20%7B%7D%7D%2C%20%22type%22%3A%20%22Feature%22%7D%2C%20%7B%22bbox%22%3A%20%5B-46.6828919%2C%20-23.6819714%2C%20-46.6828919%2C%20-23.6819714%5D%2C%20%22geometry%22%3A%20%7B%22coordinates%22%3A%20%5B-46.6828919%2C%20-23.6819714%5D%2C%20%22type%22%3A%20%22Point%22%7D%2C%20%22id%22%3A%20%2227%22%2C%20%22properties%22%3A%20%7B%22address%22%3A%20%22Rua%20Daniel%20Defoe%2C%20Campinha%2C%20Vila%20Arriete%2C%20Campo%20Grande%2C%20S%5Cu00e3o%20Paulo%2C%20Regi%5Cu00e3o%20Imediata%20de%20S%5Cu00e3o%20Paulo%2C%20Regi%5Cu00e3o%20Metropolitana%20de%20S%5Cu00e3o%20Paulo%2C%20Regi%5Cu00e3o%20Geogr%5Cu00e1fica%20Intermedi%5Cu00e1ria%20de%20S%5Cu00e3o%20Paulo%2C%20S%5Cu00e3o%20Paulo%2C%20Regi%5Cu00e3o%20Sudeste%2C%2004447-010%2C%20Brasil%22%2C%20%22highlight%22%3A%20%7B%7D%2C%20%22style%22%3A%20%7B%7D%7D%2C%20%22type%22%3A%20%22Feature%22%7D%2C%20%7B%22bbox%22%3A%20%5B-46.6835581%2C%20-23.6827816%2C%20-46.6835581%2C%20-23.6827816%5D%2C%20%22geometry%22%3A%20%7B%22coordinates%22%3A%20%5B-46.6835581%2C%20-23.6827816%5D%2C%20%22type%22%3A%20%22Point%22%7D%2C%20%22id%22%3A%20%2228%22%2C%20%22properties%22%3A%20%7B%22address%22%3A%20%22Rua%20Francisco%20Madero%2C%20Vila%20Arriete%2C%20Campo%20Grande%2C%20S%5Cu00e3o%20Paulo%2C%20Regi%5Cu00e3o%20Imediata%20de%20S%5Cu00e3o%20Paulo%2C%20Regi%5Cu00e3o%20Metropolitana%20de%20S%5Cu00e3o%20Paulo%2C%20Regi%5Cu00e3o%20Geogr%5Cu00e1fica%20Intermedi%5Cu00e1ria%20de%20S%5Cu00e3o%20Paulo%2C%20S%5Cu00e3o%20Paulo%2C%20Regi%5Cu00e3o%20Sudeste%2C%2004447-010%2C%20Brasil%22%2C%20%22highlight%22%3A%20%7B%7D%2C%20%22style%22%3A%20%7B%7D%7D%2C%20%22type%22%3A%20%22Feature%22%7D%2C%20%7B%22bbox%22%3A%20null%2C%20%22geometry%22%3A%20null%2C%20%22id%22%3A%20%2229%22%2C%20%22properties%22%3A%20%7B%22address%22%3A%20null%2C%20%22highlight%22%3A%20%7B%7D%2C%20%22style%22%3A%20%7B%7D%7D%2C%20%22type%22%3A%20%22Feature%22%7D%2C%20%7B%22bbox%22%3A%20%5B-46.685297%2C%20-23.6842026%2C%20-46.685297%2C%20-23.6842026%5D%2C%20%22geometry%22%3A%20%7B%22coordinates%22%3A%20%5B-46.685297%2C%20-23.6842026%5D%2C%20%22type%22%3A%20%22Point%22%7D%2C%20%22id%22%3A%20%2230%22%2C%20%22properties%22%3A%20%7B%22address%22%3A%20%22Rua%20Gilson%20Amado%2C%20Vila%20Arriete%2C%20Campo%20Grande%2C%20S%5Cu00e3o%20Paulo%2C%20Regi%5Cu00e3o%20Imediata%20de%20S%5Cu00e3o%20Paulo%2C%20Regi%5Cu00e3o%20Metropolitana%20de%20S%5Cu00e3o%20Paulo%2C%20Regi%5Cu00e3o%20Geogr%5Cu00e1fica%20Intermedi%5Cu00e1ria%20de%20S%5Cu00e3o%20Paulo%2C%20S%5Cu00e3o%20Paulo%2C%20Regi%5Cu00e3o%20Sudeste%2C%2004446-180%2C%20Brasil%22%2C%20%22highlight%22%3A%20%7B%7D%2C%20%22style%22%3A%20%7B%7D%7D%2C%20%22type%22%3A%20%22Feature%22%7D%2C%20%7B%22bbox%22%3A%20%5B-46.6861743%2C%20-23.6838519%2C%20-46.6861743%2C%20-23.6838519%5D%2C%20%22geometry%22%3A%20%7B%22coordinates%22%3A%20%5B-46.6861743%2C%20-23.6838519%5D%2C%20%22type%22%3A%20%22Point%22%7D%2C%20%22id%22%3A%20%2231%22%2C%20%22properties%22%3A%20%7B%22address%22%3A%20%22Rua%20de%20Visconde%20Roboredo%2C%20Vila%20Arriete%2C%20Campo%20Grande%2C%20S%5Cu00e3o%20Paulo%2C%20Regi%5Cu00e3o%20Imediata%20de%20S%5Cu00e3o%20Paulo%2C%20Regi%5Cu00e3o%20Metropolitana%20de%20S%5Cu00e3o%20Paulo%2C%20Regi%5Cu00e3o%20Geogr%5Cu00e1fica%20Intermedi%5Cu00e1ria%20de%20S%5Cu00e3o%20Paulo%2C%20S%5Cu00e3o%20Paulo%2C%20Regi%5Cu00e3o%20Sudeste%2C%2004446-180%2C%20Brasil%22%2C%20%22highlight%22%3A%20%7B%7D%2C%20%22style%22%3A%20%7B%7D%7D%2C%20%22type%22%3A%20%22Feature%22%7D%2C%20%7B%22bbox%22%3A%20%5B-46.6846888%2C%20-23.6838518%2C%20-46.6846888%2C%20-23.6838518%5D%2C%20%22geometry%22%3A%20%7B%22coordinates%22%3A%20%5B-46.6846888%2C%20-23.6838518%5D%2C%20%22type%22%3A%20%22Point%22%7D%2C%20%22id%22%3A%20%2232%22%2C%20%22properties%22%3A%20%7B%22address%22%3A%20%22Alameda%20Afonso%20Bocchiglieri%2C%20Vila%20Arriete%2C%20Campo%20Grande%2C%20S%5Cu00e3o%20Paulo%2C%20Regi%5Cu00e3o%20Imediata%20de%20S%5Cu00e3o%20Paulo%2C%20Regi%5Cu00e3o%20Metropolitana%20de%20S%5Cu00e3o%20Paulo%2C%20Regi%5Cu00e3o%20Geogr%5Cu00e1fica%20Intermedi%5Cu00e1ria%20de%20S%5Cu00e3o%20Paulo%2C%20S%5Cu00e3o%20Paulo%2C%20Regi%5Cu00e3o%20Sudeste%2C%2004447-010%2C%20Brasil%22%2C%20%22highlight%22%3A%20%7B%7D%2C%20%22style%22%3A%20%7B%7D%7D%2C%20%22type%22%3A%20%22Feature%22%7D%2C%20%7B%22bbox%22%3A%20%5B-46.6843723%2C%20-23.6843898%2C%20-46.6843723%2C%20-23.6843898%5D%2C%20%22geometry%22%3A%20%7B%22coordinates%22%3A%20%5B-46.6843723%2C%20-23.6843898%5D%2C%20%22type%22%3A%20%22Point%22%7D%2C%20%22id%22%3A%20%2233%22%2C%20%22properties%22%3A%20%7B%22address%22%3A%20%22Rua%20Jo%5Cu00e3o%20Ferreira%20de%20Abreu%2C%20Vila%20Arriete%2C%20Campo%20Grande%2C%20S%5Cu00e3o%20Paulo%2C%20Regi%5Cu00e3o%20Imediata%20de%20S%5Cu00e3o%20Paulo%2C%20Regi%5Cu00e3o%20Metropolitana%20de%20S%5Cu00e3o%20Paulo%2C%20Regi%5Cu00e3o%20Geogr%5Cu00e1fica%20Intermedi%5Cu00e1ria%20de%20S%5Cu00e3o%20Paulo%2C%20S%5Cu00e3o%20Paulo%2C%20Regi%5Cu00e3o%20Sudeste%2C%2004447-010%2C%20Brasil%22%2C%20%22highlight%22%3A%20%7B%7D%2C%20%22style%22%3A%20%7B%7D%7D%2C%20%22type%22%3A%20%22Feature%22%7D%2C%20%7B%22bbox%22%3A%20%5B-46.6861729%2C%20-23.6901138%2C%20-46.6861729%2C%20-23.6901138%5D%2C%20%22geometry%22%3A%20%7B%22coordinates%22%3A%20%5B-46.6861729%2C%20-23.6901138%5D%2C%20%22type%22%3A%20%22Point%22%7D%2C%20%22id%22%3A%20%2234%22%2C%20%22properties%22%3A%20%7B%22address%22%3A%20%22Rua%20Tabar%5Cu00e9%2C%20Vila%20Arriete%2C%20Campo%20Grande%2C%20S%5Cu00e3o%20Paulo%2C%20Regi%5Cu00e3o%20Imediata%20de%20S%5Cu00e3o%20Paulo%2C%20Regi%5Cu00e3o%20Metropolitana%20de%20S%5Cu00e3o%20Paulo%2C%20Regi%5Cu00e3o%20Geogr%5Cu00e1fica%20Intermedi%5Cu00e1ria%20de%20S%5Cu00e3o%20Paulo%2C%20S%5Cu00e3o%20Paulo%2C%20Regi%5Cu00e3o%20Sudeste%2C%2004446060%2C%20Brasil%22%2C%20%22highlight%22%3A%20%7B%7D%2C%20%22style%22%3A%20%7B%7D%7D%2C%20%22type%22%3A%20%22Feature%22%7D%2C%20%7B%22bbox%22%3A%20%5B-46.6814272%2C%20-23.6875252%2C%20-46.6814272%2C%20-23.6875252%5D%2C%20%22geometry%22%3A%20%7B%22coordinates%22%3A%20%5B-46.6814272%2C%20-23.6875252%5D%2C%20%22type%22%3A%20%22Point%22%7D%2C%20%22id%22%3A%20%2235%22%2C%20%22properties%22%3A%20%7B%22address%22%3A%20%22Rua%20Oira%2C%20Vila%20Arriete%2C%20Campo%20Grande%2C%20S%5Cu00e3o%20Paulo%2C%20Regi%5Cu00e3o%20Imediata%20de%20S%5Cu00e3o%20Paulo%2C%20Regi%5Cu00e3o%20Metropolitana%20de%20S%5Cu00e3o%20Paulo%2C%20Regi%5Cu00e3o%20Geogr%5Cu00e1fica%20Intermedi%5Cu00e1ria%20de%20S%5Cu00e3o%20Paulo%2C%20S%5Cu00e3o%20Paulo%2C%20Regi%5Cu00e3o%20Sudeste%2C%2004446-020%2C%20Brasil%22%2C%20%22highlight%22%3A%20%7B%7D%2C%20%22style%22%3A%20%7B%7D%7D%2C%20%22type%22%3A%20%22Feature%22%7D%2C%20%7B%22bbox%22%3A%20%5B-46.681558821964465%2C%20-23.6878574%2C%20-46.681558821964465%2C%20-23.6878574%5D%2C%20%22geometry%22%3A%20%7B%22coordinates%22%3A%20%5B-46.681558821964465%2C%20-23.6878574%5D%2C%20%22type%22%3A%20%22Point%22%7D%2C%20%22id%22%3A%20%2236%22%2C%20%22properties%22%3A%20%7B%22address%22%3A%20%22Pra%5Cu00e7a%20Nova%20Olinda%2C%20Vila%20Arriete%2C%20Campo%20Grande%2C%20S%5Cu00e3o%20Paulo%2C%20Regi%5Cu00e3o%20Imediata%20de%20S%5Cu00e3o%20Paulo%2C%20Regi%5Cu00e3o%20Metropolitana%20de%20S%5Cu00e3o%20Paulo%2C%20Regi%5Cu00e3o%20Geogr%5Cu00e1fica%20Intermedi%5Cu00e1ria%20de%20S%5Cu00e3o%20Paulo%2C%20S%5Cu00e3o%20Paulo%2C%20Regi%5Cu00e3o%20Sudeste%2C%2004446-020%2C%20Brasil%22%2C%20%22highlight%22%3A%20%7B%7D%2C%20%22style%22%3A%20%7B%7D%7D%2C%20%22type%22%3A%20%22Feature%22%7D%2C%20%7B%22bbox%22%3A%20%5B-46.681895%2C%20-23.6876512%2C%20-46.681895%2C%20-23.6876512%5D%2C%20%22geometry%22%3A%20%7B%22coordinates%22%3A%20%5B-46.681895%2C%20-23.6876512%5D%2C%20%22type%22%3A%20%22Point%22%7D%2C%20%22id%22%3A%20%2237%22%2C%20%22properties%22%3A%20%7B%22address%22%3A%20%22Rua%20Icapar%5Cu00e1%2C%20Vila%20Arriete%2C%20Campo%20Grande%2C%20S%5Cu00e3o%20Paulo%2C%20Regi%5Cu00e3o%20Imediata%20de%20S%5Cu00e3o%20Paulo%2C%20Regi%5Cu00e3o%20Metropolitana%20de%20S%5Cu00e3o%20Paulo%2C%20Regi%5Cu00e3o%20Geogr%5Cu00e1fica%20Intermedi%5Cu00e1ria%20de%20S%5Cu00e3o%20Paulo%2C%20S%5Cu00e3o%20Paulo%2C%20Regi%5Cu00e3o%20Sudeste%2C%2004446-020%2C%20Brasil%22%2C%20%22highlight%22%3A%20%7B%7D%2C%20%22style%22%3A%20%7B%7D%7D%2C%20%22type%22%3A%20%22Feature%22%7D%2C%20%7B%22bbox%22%3A%20%5B-46.8710051%2C%20-23.4284949%2C%20-46.8710051%2C%20-23.4284949%5D%2C%20%22geometry%22%3A%20%7B%22coordinates%22%3A%20%5B-46.8710051%2C%20-23.4284949%5D%2C%20%22type%22%3A%20%22Point%22%7D%2C%20%22id%22%3A%20%2238%22%2C%20%22properties%22%3A%20%7B%22address%22%3A%20%22Rua%20Mussum%2C%20Ch%5Cu00e1cara%20Jaguari%2C%20Santana%20de%20Parna%5Cu00edba%2C%20Regi%5Cu00e3o%20Imediata%20de%20S%5Cu00e3o%20Paulo%2C%20Regi%5Cu00e3o%20Metropolitana%20de%20S%5Cu00e3o%20Paulo%2C%20Regi%5Cu00e3o%20Geogr%5Cu00e1fica%20Intermedi%5Cu00e1ria%20de%20S%5Cu00e3o%20Paulo%2C%20S%5Cu00e3o%20Paulo%2C%20Regi%5Cu00e3o%20Sudeste%2C%2006535-175%2C%20Brasil%22%2C%20%22highlight%22%3A%20%7B%7D%2C%20%22style%22%3A%20%7B%7D%7D%2C%20%22type%22%3A%20%22Feature%22%7D%2C%20%7B%22bbox%22%3A%20%5B-46.6828179%2C%20-23.6887815%2C%20-46.6828179%2C%20-23.6887815%5D%2C%20%22geometry%22%3A%20%7B%22coordinates%22%3A%20%5B-46.6828179%2C%20-23.6887815%5D%2C%20%22type%22%3A%20%22Point%22%7D%2C%20%22id%22%3A%20%2239%22%2C%20%22properties%22%3A%20%7B%22address%22%3A%20%22Rua%20Anhanga%5Cu00ed%2C%20Vila%20Arriete%2C%20Campo%20Grande%2C%20S%5Cu00e3o%20Paulo%2C%20Regi%5Cu00e3o%20Imediata%20de%20S%5Cu00e3o%20Paulo%2C%20Regi%5Cu00e3o%20Metropolitana%20de%20S%5Cu00e3o%20Paulo%2C%20Regi%5Cu00e3o%20Geogr%5Cu00e1fica%20Intermedi%5Cu00e1ria%20de%20S%5Cu00e3o%20Paulo%2C%20S%5Cu00e3o%20Paulo%2C%20Regi%5Cu00e3o%20Sudeste%2C%2004446-020%2C%20Brasil%22%2C%20%22highlight%22%3A%20%7B%7D%2C%20%22style%22%3A%20%7B%7D%7D%2C%20%22type%22%3A%20%22Feature%22%7D%2C%20%7B%22bbox%22%3A%20%5B-46.6837118%2C%20-23.6882394%2C%20-46.6837118%2C%20-23.6882394%5D%2C%20%22geometry%22%3A%20%7B%22coordinates%22%3A%20%5B-46.6837118%2C%20-23.6882394%5D%2C%20%22type%22%3A%20%22Point%22%7D%2C%20%22id%22%3A%20%2240%22%2C%20%22properties%22%3A%20%7B%22address%22%3A%20%22Avenida%20Assar%5Cu00e9%2C%20Vila%20Arriete%2C%20Campo%20Grande%2C%20S%5Cu00e3o%20Paulo%2C%20Regi%5Cu00e3o%20Imediata%20de%20S%5Cu00e3o%20Paulo%2C%20Regi%5Cu00e3o%20Metropolitana%20de%20S%5Cu00e3o%20Paulo%2C%20Regi%5Cu00e3o%20Geogr%5Cu00e1fica%20Intermedi%5Cu00e1ria%20de%20S%5Cu00e3o%20Paulo%2C%20S%5Cu00e3o%20Paulo%2C%20Regi%5Cu00e3o%20Sudeste%2C%2004446060%2C%20Brasil%22%2C%20%22highlight%22%3A%20%7B%7D%2C%20%22style%22%3A%20%7B%7D%7D%2C%20%22type%22%3A%20%22Feature%22%7D%2C%20%7B%22bbox%22%3A%20%5B-46.8149909%2C%20-23.6526004%2C%20-46.8149909%2C%20-23.6526004%5D%2C%20%22geometry%22%3A%20%7B%22coordinates%22%3A%20%5B-46.8149909%2C%20-23.6526004%5D%2C%20%22type%22%3A%20%22Point%22%7D%2C%20%22id%22%3A%20%2241%22%2C%20%22properties%22%3A%20%7B%22address%22%3A%20%22Rua%20Embu%20Gua%5Cu00e7u%2C%20Parque%20Pirajussara%2C%20Embu%20das%20Artes%2C%20Regi%5Cu00e3o%20Imediata%20de%20S%5Cu00e3o%20Paulo%2C%20Regi%5Cu00e3o%20Metropolitana%20de%20S%5Cu00e3o%20Paulo%2C%20Regi%5Cu00e3o%20Geogr%5Cu00e1fica%20Intermedi%5Cu00e1ria%20de%20S%5Cu00e3o%20Paulo%2C%20S%5Cu00e3o%20Paulo%2C%20Regi%5Cu00e3o%20Sudeste%2C%2006815-030%2C%20Brasil%22%2C%20%22highlight%22%3A%20%7B%7D%2C%20%22style%22%3A%20%7B%7D%7D%2C%20%22type%22%3A%20%22Feature%22%7D%2C%20%7B%22bbox%22%3A%20%5B-46.6842771%2C%20-23.6883803%2C%20-46.6842771%2C%20-23.6883803%5D%2C%20%22geometry%22%3A%20%7B%22coordinates%22%3A%20%5B-46.6842771%2C%20-23.6883803%5D%2C%20%22type%22%3A%20%22Point%22%7D%2C%20%22id%22%3A%20%2242%22%2C%20%22properties%22%3A%20%7B%22address%22%3A%20%22Rua%20Cajubura%2C%20Vila%20Arriete%2C%20Campo%20Grande%2C%20S%5Cu00e3o%20Paulo%2C%20Regi%5Cu00e3o%20Imediata%20de%20S%5Cu00e3o%20Paulo%2C%20Regi%5Cu00e3o%20Metropolitana%20de%20S%5Cu00e3o%20Paulo%2C%20Regi%5Cu00e3o%20Geogr%5Cu00e1fica%20Intermedi%5Cu00e1ria%20de%20S%5Cu00e3o%20Paulo%2C%20S%5Cu00e3o%20Paulo%2C%20Regi%5Cu00e3o%20Sudeste%2C%2004446060%2C%20Brasil%22%2C%20%22highlight%22%3A%20%7B%7D%2C%20%22style%22%3A%20%7B%7D%7D%2C%20%22type%22%3A%20%22Feature%22%7D%2C%20%7B%22bbox%22%3A%20%5B-46.6846619%2C%20-23.6884846%2C%20-46.6846619%2C%20-23.6884846%5D%2C%20%22geometry%22%3A%20%7B%22coordinates%22%3A%20%5B-46.6846619%2C%20-23.6884846%5D%2C%20%22type%22%3A%20%22Point%22%7D%2C%20%22id%22%3A%20%2243%22%2C%20%22properties%22%3A%20%7B%22address%22%3A%20%22Rua%20Nuputira%2C%20Vila%20Arriete%2C%20Campo%20Grande%2C%20S%5Cu00e3o%20Paulo%2C%20Regi%5Cu00e3o%20Imediata%20de%20S%5Cu00e3o%20Paulo%2C%20Regi%5Cu00e3o%20Metropolitana%20de%20S%5Cu00e3o%20Paulo%2C%20Regi%5Cu00e3o%20Geogr%5Cu00e1fica%20Intermedi%5Cu00e1ria%20de%20S%5Cu00e3o%20Paulo%2C%20S%5Cu00e3o%20Paulo%2C%20Regi%5Cu00e3o%20Sudeste%2C%2004446060%2C%20Brasil%22%2C%20%22highlight%22%3A%20%7B%7D%2C%20%22style%22%3A%20%7B%7D%7D%2C%20%22type%22%3A%20%22Feature%22%7D%2C%20%7B%22bbox%22%3A%20%5B-46.6853172%2C%20-23.688084%2C%20-46.6853172%2C%20-23.688084%5D%2C%20%22geometry%22%3A%20%7B%22coordinates%22%3A%20%5B-46.6853172%2C%20-23.688084%5D%2C%20%22type%22%3A%20%22Point%22%7D%2C%20%22id%22%3A%20%2244%22%2C%20%22properties%22%3A%20%7B%22address%22%3A%20%22Rua%20Mois%5Cu00e9s%20Val%5Cu00e9rio%20Franco%2C%20Vila%20Arriete%2C%20Campo%20Grande%2C%20S%5Cu00e3o%20Paulo%2C%20Regi%5Cu00e3o%20Imediata%20de%20S%5Cu00e3o%20Paulo%2C%20Regi%5Cu00e3o%20Metropolitana%20de%20S%5Cu00e3o%20Paulo%2C%20Regi%5Cu00e3o%20Geogr%5Cu00e1fica%20Intermedi%5Cu00e1ria%20de%20S%5Cu00e3o%20Paulo%2C%20S%5Cu00e3o%20Paulo%2C%20Regi%5Cu00e3o%20Sudeste%2C%2004446060%2C%20Brasil%22%2C%20%22highlight%22%3A%20%7B%7D%2C%20%22style%22%3A%20%7B%7D%7D%2C%20%22type%22%3A%20%22Feature%22%7D%2C%20%7B%22bbox%22%3A%20null%2C%20%22geometry%22%3A%20null%2C%20%22id%22%3A%20%2245%22%2C%20%22properties%22%3A%20%7B%22address%22%3A%20null%2C%20%22highlight%22%3A%20%7B%7D%2C%20%22style%22%3A%20%7B%7D%7D%2C%20%22type%22%3A%20%22Feature%22%7D%2C%20%7B%22bbox%22%3A%20%5B-46.6851273%2C%20-23.6880115%2C%20-46.6851273%2C%20-23.6880115%5D%2C%20%22geometry%22%3A%20%7B%22coordinates%22%3A%20%5B-46.6851273%2C%20-23.6880115%5D%2C%20%22type%22%3A%20%22Point%22%7D%2C%20%22id%22%3A%20%2246%22%2C%20%22properties%22%3A%20%7B%22address%22%3A%20%22Rua%20do%20Meirinho%2C%20Vila%20Arriete%2C%20Campo%20Grande%2C%20S%5Cu00e3o%20Paulo%2C%20Regi%5Cu00e3o%20Imediata%20de%20S%5Cu00e3o%20Paulo%2C%20Regi%5Cu00e3o%20Metropolitana%20de%20S%5Cu00e3o%20Paulo%2C%20Regi%5Cu00e3o%20Geogr%5Cu00e1fica%20Intermedi%5Cu00e1ria%20de%20S%5Cu00e3o%20Paulo%2C%20S%5Cu00e3o%20Paulo%2C%20Regi%5Cu00e3o%20Sudeste%2C%2004446060%2C%20Brasil%22%2C%20%22highlight%22%3A%20%7B%7D%2C%20%22style%22%3A%20%7B%7D%7D%2C%20%22type%22%3A%20%22Feature%22%7D%2C%20%7B%22bbox%22%3A%20%5B-46.6827276%2C%20-23.6868096%2C%20-46.6827276%2C%20-23.6868096%5D%2C%20%22geometry%22%3A%20%7B%22coordinates%22%3A%20%5B-46.6827276%2C%20-23.6868096%5D%2C%20%22type%22%3A%20%22Point%22%7D%2C%20%22id%22%3A%20%2247%22%2C%20%22properties%22%3A%20%7B%22address%22%3A%20%22Rua%20Jos%5Cu00e9%20da%20Fonseca%20Nadaes%2C%20Vila%20Arriete%2C%20Campo%20Grande%2C%20S%5Cu00e3o%20Paulo%2C%20Regi%5Cu00e3o%20Imediata%20de%20S%5Cu00e3o%20Paulo%2C%20Regi%5Cu00e3o%20Metropolitana%20de%20S%5Cu00e3o%20Paulo%2C%20Regi%5Cu00e3o%20Geogr%5Cu00e1fica%20Intermedi%5Cu00e1ria%20de%20S%5Cu00e3o%20Paulo%2C%20S%5Cu00e3o%20Paulo%2C%20Regi%5Cu00e3o%20Sudeste%2C%2004446-160%2C%20Brasil%22%2C%20%22highlight%22%3A%20%7B%7D%2C%20%22style%22%3A%20%7B%7D%7D%2C%20%22type%22%3A%20%22Feature%22%7D%2C%20%7B%22bbox%22%3A%20null%2C%20%22geometry%22%3A%20null%2C%20%22id%22%3A%20%2248%22%2C%20%22properties%22%3A%20%7B%22address%22%3A%20null%2C%20%22highlight%22%3A%20%7B%7D%2C%20%22style%22%3A%20%7B%7D%7D%2C%20%22type%22%3A%20%22Feature%22%7D%2C%20%7B%22bbox%22%3A%20%5B-46.6828161%2C%20-23.6873232%2C%20-46.6828161%2C%20-23.6873232%5D%2C%20%22geometry%22%3A%20%7B%22coordinates%22%3A%20%5B-46.6828161%2C%20-23.6873232%5D%2C%20%22type%22%3A%20%22Point%22%7D%2C%20%22id%22%3A%20%2249%22%2C%20%22properties%22%3A%20%7B%22address%22%3A%20%22Rua%20Arap%5Cu00e9s%2C%20Vila%20Arriete%2C%20Campo%20Grande%2C%20S%5Cu00e3o%20Paulo%2C%20Regi%5Cu00e3o%20Imediata%20de%20S%5Cu00e3o%20Paulo%2C%20Regi%5Cu00e3o%20Metropolitana%20de%20S%5Cu00e3o%20Paulo%2C%20Regi%5Cu00e3o%20Geogr%5Cu00e1fica%20Intermedi%5Cu00e1ria%20de%20S%5Cu00e3o%20Paulo%2C%20S%5Cu00e3o%20Paulo%2C%20Regi%5Cu00e3o%20Sudeste%2C%2004446-020%2C%20Brasil%22%2C%20%22highlight%22%3A%20%7B%7D%2C%20%22style%22%3A%20%7B%7D%7D%2C%20%22type%22%3A%20%22Feature%22%7D%5D%2C%20%22type%22%3A%20%22FeatureCollection%22%7D%2C%0A%20%20%20%20%20%20%20%20%20%20%20%20%7B%0A%20%20%20%20%20%20%20%20%20%20%20%20%7D%0A%20%20%20%20%20%20%20%20%29.addTo%28map_bec55f78d2094c68b826983c15b015d3%20%29%3B%0A%20%20%20%20%20%20%20%20geo_json_9f65532d41f54677aa19aadf2b5b21f8.setStyle%28function%28feature%29%20%7Breturn%20feature.properties.style%3B%7D%29%3B%0A%20%20%20%20%20%20%20%20%0A%3C/script%3E onload=\"this.contentDocument.open();this.contentDocument.write(    decodeURIComponent(this.getAttribute('data-html')));this.contentDocument.close();\" allowfullscreen webkitallowfullscreen mozallowfullscreen></iframe></div></div>"
            ],
            "text/plain": [
              "<folium.folium.Map at 0x7f907c1ea3d0>"
            ]
          },
          "metadata": {},
          "execution_count": 55
        }
      ]
    },
    {
      "cell_type": "code",
      "metadata": {
        "id": "fkCJsdvVCLbn"
      },
      "source": [
        ""
      ],
      "execution_count": null,
      "outputs": []
    }
  ]
}