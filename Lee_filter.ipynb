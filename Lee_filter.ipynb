{
  "nbformat": 4,
  "nbformat_minor": 0,
  "metadata": {
    "colab": {
      "name": "Lee_filter.ipynb",
      "provenance": []
    },
    "kernelspec": {
      "name": "python3",
      "display_name": "Python 3"
    },
    "language_info": {
      "name": "python"
    }
  },
  "cells": [
    {
      "cell_type": "code",
      "execution_count": null,
      "metadata": {
        "id": "5GTKGjHihSDC"
      },
      "outputs": [],
      "source": [
        "# Bibliotecas\n",
        "import numpy as np\n",
        "import tifffile as tif\n",
        "import matplotlib.pyplot as plt\n",
        "from scipy.ndimage.filters import uniform_filter\n",
        "from scipy.ndimage.measurements import variance"
      ]
    },
    {
      "cell_type": "code",
      "source": [
        "# Definindo função do filtro Lee\n",
        "def filtro_lee(img, janela):\n",
        "\n",
        "    K = uniform_filter(img, (janela, janela))\n",
        "\n",
        "    variancia_img = variance(img)\n",
        "\n",
        "    variancia_kernel = uniform_filter(img**2, (janela, janela)) - K**2\n",
        "\n",
        "    W = variancia_kernel / (variancia_kernel + variancia_img)\n",
        "    \n",
        "    resultado = K + W * (img - K)\n",
        "    return resultado"
      ],
      "metadata": {
        "id": "K-kkyBpViBbD"
      },
      "execution_count": null,
      "outputs": []
    },
    {
      "cell_type": "code",
      "source": [
        "# Lendo imagem \n",
        "img = tif.imread('VH.tif')"
      ],
      "metadata": {
        "id": "sGtc-wnCk1Er"
      },
      "execution_count": null,
      "outputs": []
    },
    {
      "cell_type": "code",
      "source": [
        "# Calculando filtro\n",
        "lee = filtro_lee(img,11)"
      ],
      "metadata": {
        "id": "SftwTENtc4YS"
      },
      "execution_count": null,
      "outputs": []
    },
    {
      "cell_type": "code",
      "source": [
        "# Visualizando imagem original\n",
        "plt.figure(figsize=(12,8))\n",
        "plt.imshow(img, cmap='gray')"
      ],
      "metadata": {
        "id": "xv3A5jGjlB2I"
      },
      "execution_count": null,
      "outputs": []
    },
    {
      "cell_type": "code",
      "source": [
        "# Visualizando imagem filtrada\n",
        "plt.figure(figsize=(12,8))\n",
        "plt.imshow(lee, cmap='gray')"
      ],
      "metadata": {
        "id": "L2aE41Xtk6ow"
      },
      "execution_count": null,
      "outputs": []
    },
    {
      "cell_type": "code",
      "source": [
        ""
      ],
      "metadata": {
        "id": "230Kb9XBBKTv"
      },
      "execution_count": null,
      "outputs": []
    }
  ]
}