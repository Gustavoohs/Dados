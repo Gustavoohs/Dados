{
  "nbformat": 4,
  "nbformat_minor": 0,
  "metadata": {
    "kernelspec": {
      "display_name": "Python 3",
      "language": "python",
      "name": "python3"
    },
    "language_info": {
      "codemirror_mode": {
        "name": "ipython",
        "version": 3
      },
      "file_extension": ".py",
      "mimetype": "text/x-python",
      "name": "python",
      "nbconvert_exporter": "python",
      "pygments_lexer": "ipython3",
      "version": "3.8.10"
    },
    "colab": {
      "name": "GPSPhoto.ipynb",
      "provenance": [],
      "collapsed_sections": []
    }
  },
  "cells": [
    {
      "cell_type": "code",
      "metadata": {
        "colab": {
          "base_uri": "https://localhost:8080/"
        },
        "id": "EyX1819-4ZtS",
        "outputId": "b89bbb45-641c-47ca-8538-798d3535e739"
      },
      "source": [
        "!pip install GPSPhoto"
      ],
      "execution_count": null,
      "outputs": [
        {
          "output_type": "stream",
          "text": [
            "Collecting GPSPhoto\n",
            "  Downloading gpsphoto-2.2.3.tar.gz (13 kB)\n",
            "Building wheels for collected packages: GPSPhoto\n",
            "  Building wheel for GPSPhoto (setup.py) ... \u001b[?25l\u001b[?25hdone\n",
            "  Created wheel for GPSPhoto: filename=gpsphoto-2.2.3-py3-none-any.whl size=11880 sha256=6fd97f7760bbaef09195a4bf76b352beb44f583bcad1c38bf4783f009578a8ba\n",
            "  Stored in directory: /root/.cache/pip/wheels/2a/3a/ea/8aff4448f997d98966ac532c48ff572c53eea439a9d2de6676\n",
            "Successfully built GPSPhoto\n",
            "Installing collected packages: GPSPhoto\n",
            "Successfully installed GPSPhoto-2.2.3\n"
          ],
          "name": "stdout"
        }
      ]
    },
    {
      "cell_type": "code",
      "metadata": {
        "colab": {
          "base_uri": "https://localhost:8080/"
        },
        "id": "oK5JqeLYcLCn",
        "outputId": "9aacff52-b0aa-4474-adf2-b677898f320e"
      },
      "source": [
        "!pip install exifread"
      ],
      "execution_count": null,
      "outputs": [
        {
          "output_type": "stream",
          "text": [
            "Collecting exifread\n",
            "  Downloading ExifRead-2.3.2-py3-none-any.whl (38 kB)\n",
            "Installing collected packages: exifread\n",
            "Successfully installed exifread-2.3.2\n"
          ],
          "name": "stdout"
        }
      ]
    },
    {
      "cell_type": "code",
      "metadata": {
        "colab": {
          "base_uri": "https://localhost:8080/"
        },
        "id": "pNTIb6AE4lE_",
        "outputId": "a01765fe-35e9-41db-8fb4-194183796088"
      },
      "source": [
        "!pip install piexif\n",
        "!pip install geopandas"
      ],
      "execution_count": null,
      "outputs": [
        {
          "output_type": "stream",
          "text": [
            "Requirement already satisfied: piexif in /usr/local/lib/python3.7/dist-packages (1.1.3)\n",
            "Collecting geopandas\n",
            "  Downloading geopandas-0.9.0-py2.py3-none-any.whl (994 kB)\n",
            "\u001b[K     |████████████████████████████████| 994 kB 26.7 MB/s \n",
            "\u001b[?25hRequirement already satisfied: shapely>=1.6 in /usr/local/lib/python3.7/dist-packages (from geopandas) (1.7.1)\n",
            "Collecting pyproj>=2.2.0\n",
            "  Downloading pyproj-3.1.0-cp37-cp37m-manylinux2010_x86_64.whl (6.6 MB)\n",
            "\u001b[K     |████████████████████████████████| 6.6 MB 49.6 MB/s \n",
            "\u001b[?25hRequirement already satisfied: pandas>=0.24.0 in /usr/local/lib/python3.7/dist-packages (from geopandas) (1.1.5)\n",
            "Collecting fiona>=1.8\n",
            "  Downloading Fiona-1.8.20-cp37-cp37m-manylinux1_x86_64.whl (15.4 MB)\n",
            "\u001b[K     |████████████████████████████████| 15.4 MB 37 kB/s \n",
            "\u001b[?25hRequirement already satisfied: six>=1.7 in /usr/local/lib/python3.7/dist-packages (from fiona>=1.8->geopandas) (1.15.0)\n",
            "Collecting click-plugins>=1.0\n",
            "  Downloading click_plugins-1.1.1-py2.py3-none-any.whl (7.5 kB)\n",
            "Collecting munch\n",
            "  Downloading munch-2.5.0-py2.py3-none-any.whl (10 kB)\n",
            "Requirement already satisfied: certifi in /usr/local/lib/python3.7/dist-packages (from fiona>=1.8->geopandas) (2021.5.30)\n",
            "Requirement already satisfied: setuptools in /usr/local/lib/python3.7/dist-packages (from fiona>=1.8->geopandas) (57.2.0)\n",
            "Requirement already satisfied: attrs>=17 in /usr/local/lib/python3.7/dist-packages (from fiona>=1.8->geopandas) (21.2.0)\n",
            "Requirement already satisfied: click>=4.0 in /usr/local/lib/python3.7/dist-packages (from fiona>=1.8->geopandas) (7.1.2)\n",
            "Collecting cligj>=0.5\n",
            "  Downloading cligj-0.7.2-py3-none-any.whl (7.1 kB)\n",
            "Requirement already satisfied: pytz>=2017.2 in /usr/local/lib/python3.7/dist-packages (from pandas>=0.24.0->geopandas) (2018.9)\n",
            "Requirement already satisfied: numpy>=1.15.4 in /usr/local/lib/python3.7/dist-packages (from pandas>=0.24.0->geopandas) (1.19.5)\n",
            "Requirement already satisfied: python-dateutil>=2.7.3 in /usr/local/lib/python3.7/dist-packages (from pandas>=0.24.0->geopandas) (2.8.1)\n",
            "Installing collected packages: munch, cligj, click-plugins, pyproj, fiona, geopandas\n",
            "Successfully installed click-plugins-1.1.1 cligj-0.7.2 fiona-1.8.20 geopandas-0.9.0 munch-2.5.0 pyproj-3.1.0\n"
          ],
          "name": "stdout"
        }
      ]
    },
    {
      "cell_type": "code",
      "metadata": {
        "id": "2v_0zCkZ2c3E"
      },
      "source": [
        "import pandas as pd\n",
        "import geopandas as gpd\n",
        "import glob\n",
        "from GPSPhoto import gpsphoto"
      ],
      "execution_count": null,
      "outputs": []
    },
    {
      "cell_type": "code",
      "metadata": {
        "id": "k08STt8L2c3G",
        "colab": {
          "base_uri": "https://localhost:8080/"
        },
        "outputId": "8e4fb986-0111-47ec-cafd-c10e80047a02"
      },
      "source": [
        "img = [filename for filename in glob.glob('./*.jpg')]\n",
        "    \n",
        "img"
      ],
      "execution_count": null,
      "outputs": [
        {
          "output_type": "execute_result",
          "data": {
            "text/plain": [
              "['./IMG_20210723_110227556.jpg',\n",
              " './IMG_20210723_110057185.jpg',\n",
              " './IMG_20210723_110014122.jpg',\n",
              " './IMG_20210723_110033434.jpg',\n",
              " './IMG_20210723_110039516.jpg']"
            ]
          },
          "metadata": {
            "tags": []
          },
          "execution_count": 34
        }
      ]
    },
    {
      "cell_type": "code",
      "metadata": {
        "id": "qwRiet4l2c3H"
      },
      "source": [
        "coords = [ gpsphoto.getGPSData(i) for i in img]"
      ],
      "execution_count": null,
      "outputs": []
    },
    {
      "cell_type": "code",
      "metadata": {
        "id": "gBm5IcOv4-B_"
      },
      "source": [
        "df = pd.DataFrame(coords)\n",
        "\n",
        "gdf = gpd.GeoDataFrame(df, geometry=gpd.points_from_xy(df.Longitude, df.Latitude))"
      ],
      "execution_count": null,
      "outputs": []
    },
    {
      "cell_type": "code",
      "metadata": {
        "id": "0trepWuK4_Ah",
        "colab": {
          "base_uri": "https://localhost:8080/",
          "height": 206
        },
        "outputId": "fe9a33f5-8583-494b-e22d-8e2d218c14da"
      },
      "source": [
        "gdf.head()"
      ],
      "execution_count": null,
      "outputs": [
        {
          "output_type": "execute_result",
          "data": {
            "text/html": [
              "<div>\n",
              "<style scoped>\n",
              "    .dataframe tbody tr th:only-of-type {\n",
              "        vertical-align: middle;\n",
              "    }\n",
              "\n",
              "    .dataframe tbody tr th {\n",
              "        vertical-align: top;\n",
              "    }\n",
              "\n",
              "    .dataframe thead th {\n",
              "        text-align: right;\n",
              "    }\n",
              "</style>\n",
              "<table border=\"1\" class=\"dataframe\">\n",
              "  <thead>\n",
              "    <tr style=\"text-align: right;\">\n",
              "      <th></th>\n",
              "      <th>Latitude</th>\n",
              "      <th>Longitude</th>\n",
              "      <th>Altitude</th>\n",
              "      <th>Date</th>\n",
              "      <th>UTC-Time</th>\n",
              "      <th>geometry</th>\n",
              "    </tr>\n",
              "  </thead>\n",
              "  <tbody>\n",
              "    <tr>\n",
              "      <th>0</th>\n",
              "      <td>-15.740278</td>\n",
              "      <td>-47.884167</td>\n",
              "      <td>990</td>\n",
              "      <td>07/23/2021</td>\n",
              "      <td>14:0:14</td>\n",
              "      <td>POINT (-47.88417 -15.74028)</td>\n",
              "    </tr>\n",
              "    <tr>\n",
              "      <th>1</th>\n",
              "      <td>-15.740278</td>\n",
              "      <td>-47.884167</td>\n",
              "      <td>990</td>\n",
              "      <td>07/23/2021</td>\n",
              "      <td>14:0:33</td>\n",
              "      <td>POINT (-47.88417 -15.74028)</td>\n",
              "    </tr>\n",
              "    <tr>\n",
              "      <th>2</th>\n",
              "      <td>-15.740278</td>\n",
              "      <td>-47.884167</td>\n",
              "      <td>990</td>\n",
              "      <td>07/23/2021</td>\n",
              "      <td>14:0:39</td>\n",
              "      <td>POINT (-47.88417 -15.74028)</td>\n",
              "    </tr>\n",
              "    <tr>\n",
              "      <th>3</th>\n",
              "      <td>-15.740556</td>\n",
              "      <td>-47.884444</td>\n",
              "      <td>952</td>\n",
              "      <td>07/23/2021</td>\n",
              "      <td>14:0:57</td>\n",
              "      <td>POINT (-47.88444 -15.74056)</td>\n",
              "    </tr>\n",
              "    <tr>\n",
              "      <th>4</th>\n",
              "      <td>-15.740556</td>\n",
              "      <td>-47.884444</td>\n",
              "      <td>952</td>\n",
              "      <td>07/23/2021</td>\n",
              "      <td>14:2:27</td>\n",
              "      <td>POINT (-47.88444 -15.74056)</td>\n",
              "    </tr>\n",
              "  </tbody>\n",
              "</table>\n",
              "</div>"
            ],
            "text/plain": [
              "    Latitude  Longitude  ...  UTC-Time                     geometry\n",
              "0 -15.740278 -47.884167  ...   14:0:14  POINT (-47.88417 -15.74028)\n",
              "1 -15.740278 -47.884167  ...   14:0:33  POINT (-47.88417 -15.74028)\n",
              "2 -15.740278 -47.884167  ...   14:0:39  POINT (-47.88417 -15.74028)\n",
              "3 -15.740556 -47.884444  ...   14:0:57  POINT (-47.88444 -15.74056)\n",
              "4 -15.740556 -47.884444  ...   14:2:27  POINT (-47.88444 -15.74056)\n",
              "\n",
              "[5 rows x 6 columns]"
            ]
          },
          "metadata": {
            "tags": []
          },
          "execution_count": 28
        }
      ]
    },
    {
      "cell_type": "code",
      "metadata": {
        "id": "FPTJAWK_heCT"
      },
      "source": [
        ""
      ],
      "execution_count": null,
      "outputs": []
    }
  ]
}