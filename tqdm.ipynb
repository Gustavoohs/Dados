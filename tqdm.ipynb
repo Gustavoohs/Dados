{
  "nbformat": 4,
  "nbformat_minor": 0,
  "metadata": {
    "colab": {
      "name": "tqdm.ipynb",
      "provenance": []
    },
    "kernelspec": {
      "name": "python3",
      "display_name": "Python 3"
    },
    "language_info": {
      "name": "python"
    }
  },
  "cells": [
    {
      "cell_type": "code",
      "execution_count": null,
      "metadata": {
        "id": "OaUhLiXaSC7K"
      },
      "outputs": [],
      "source": [
        "# Bibliotecas\n",
        "import numpy as np\n",
        "from tqdm import tqdm"
      ]
    },
    {
      "cell_type": "code",
      "source": [
        "# Criando array com 10.000.000 de elementos aleatórios\n",
        "x = np.random.rand(10000000)"
      ],
      "metadata": {
        "id": "hss72pCrSHYD"
      },
      "execution_count": null,
      "outputs": []
    },
    {
      "cell_type": "code",
      "source": [
        "# Visualizando primeiros 4 elementos\n",
        "print(x[0:4])"
      ],
      "metadata": {
        "colab": {
          "base_uri": "https://localhost:8080/"
        },
        "id": "mij161z0UVV_",
        "outputId": "d95c5e26-a9ba-4d89-b867-b1688918e115"
      },
      "execution_count": null,
      "outputs": [
        {
          "output_type": "stream",
          "name": "stdout",
          "text": [
            "[0.08579734 0.31207863 0.02952665 0.04583794]\n"
          ]
        }
      ]
    },
    {
      "cell_type": "code",
      "source": [
        "# Somando 1 em cada elemento de x e armazenando em y\n",
        "y =[]\n",
        "for i in tqdm(x):\n",
        "  y.append(i+1)"
      ],
      "metadata": {
        "colab": {
          "base_uri": "https://localhost:8080/"
        },
        "id": "QKQe8nEQSTXJ",
        "outputId": "1546066e-d0a5-411f-de1e-742a32b123f5"
      },
      "execution_count": null,
      "outputs": [
        {
          "output_type": "stream",
          "name": "stderr",
          "text": [
            "100%|██████████| 10000000/10000000 [00:08<00:00, 1180589.15it/s]\n"
          ]
        }
      ]
    },
    {
      "cell_type": "code",
      "source": [
        "# Visualizando primeiros 4 elementos de y\n",
        "print(y[0:4])"
      ],
      "metadata": {
        "colab": {
          "base_uri": "https://localhost:8080/"
        },
        "id": "9tqK1W42ST_3",
        "outputId": "1289d476-333e-4a4d-dc83-2532ed28351f"
      },
      "execution_count": null,
      "outputs": [
        {
          "output_type": "stream",
          "name": "stdout",
          "text": [
            "[1.085797342592818, 1.3120786290244655, 1.029526653643232, 1.0458379439711976]\n"
          ]
        }
      ]
    },
    {
      "cell_type": "code",
      "source": [
        ""
      ],
      "metadata": {
        "id": "XR8jeKX8Uen4"
      },
      "execution_count": null,
      "outputs": []
    },
    {
      "cell_type": "code",
      "source": [
        ""
      ],
      "metadata": {
        "id": "MQLZo-xfVyvq"
      },
      "execution_count": null,
      "outputs": []
    }
  ]
}