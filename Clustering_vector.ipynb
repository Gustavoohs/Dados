{
  "nbformat": 4,
  "nbformat_minor": 0,
  "metadata": {
    "colab": {
      "name": "Clustering_vector.ipynb",
      "provenance": [],
      "collapsed_sections": []
    },
    "kernelspec": {
      "name": "python3",
      "display_name": "Python 3"
    },
    "language_info": {
      "name": "python"
    }
  },
  "cells": [
    {
      "cell_type": "code",
      "source": [
        "!pip install -q libpysal\n",
        "!pip install -q geopandas"
      ],
      "metadata": {
        "id": "DGwzhn8fN6NJ"
      },
      "execution_count": null,
      "outputs": []
    },
    {
      "cell_type": "code",
      "source": [
        "# Bibliotecas\n",
        "from libpysal.weights import Queen\n",
        "import geopandas \n",
        "import numpy\n",
        "from sklearn.cluster import KMeans,AgglomerativeClustering\n",
        "import matplotlib.pyplot as plt"
      ],
      "metadata": {
        "id": "8AUvS_nIN6cl"
      },
      "execution_count": null,
      "outputs": []
    },
    {
      "cell_type": "code",
      "source": [
        "# Lendo arquivos\n",
        "MT = geopandas.read_file('/content/MT_indices.geojson')"
      ],
      "metadata": {
        "id": "zYgeZfD1PcXl"
      },
      "execution_count": null,
      "outputs": []
    },
    {
      "cell_type": "code",
      "source": [
        "# Instanciando kmeans\n",
        "kmeans = KMeans(n_clusters=5)\n",
        "# Rodando kmeans para IDHM E FIRJAN\n",
        "kmeans_MT = kmeans.fit(MT[['IDHM', 'FIRJAN']])"
      ],
      "metadata": {
        "id": "n8fJ9vAVR4UQ"
      },
      "execution_count": null,
      "outputs": []
    },
    {
      "cell_type": "code",
      "source": [
        "# Transformando clusters em coluna da tabela de atributos\n",
        "MT['kmeans_MT'] = kmeans_MT.labels_\n",
        "\n",
        "# Visualizando resultado\n",
        "fig, ax = plt.subplots(1, figsize=(10, 10))\n",
        "MT.plot(\n",
        "    column='kmeans_MT', categorical=True, legend=True, \n",
        "    linewidth=0, ax=ax)\n",
        "ax.set_axis_off()\n",
        "plt.show()"
      ],
      "metadata": {
        "id": "jNShErFESf0s"
      },
      "execution_count": null,
      "outputs": []
    },
    {
      "cell_type": "code",
      "source": [
        "# Definindo pesos para restrição espacial\n",
        "pesos = Queen.from_dataframe(MT)"
      ],
      "metadata": {
        "id": "8RMVb5T2WMUQ"
      },
      "execution_count": null,
      "outputs": []
    },
    {
      "cell_type": "code",
      "source": [
        "# Instanciando modelo com restrição espacial\n",
        "agg_cluster = AgglomerativeClustering(\n",
        "    linkage='ward', connectivity=pesos.sparse, n_clusters=5)\n",
        "# Ajustando modelo aos dados\n",
        "agg_cluster.fit(MT[['IDHM', 'FIRJAN']])"
      ],
      "metadata": {
        "id": "bbwIClxvVvi7"
      },
      "execution_count": null,
      "outputs": []
    },
    {
      "cell_type": "code",
      "source": [
        "# Transformando clusters em coluna da tabela de atributos\n",
        "MT['agg_cluster'] = agg_cluster.labels_\n",
        "\n",
        "# Visualizando resultado\n",
        "fig, ax = plt.subplots(1, figsize=(10, 10))\n",
        "MT.plot(column='agg_cluster', categorical=True, \n",
        "        legend=True, linewidth=0, ax=ax)\n",
        "ax.set_axis_off()\n",
        "plt.show()"
      ],
      "metadata": {
        "id": "IEaIE1izV73_"
      },
      "execution_count": null,
      "outputs": []
    }
  ]
}