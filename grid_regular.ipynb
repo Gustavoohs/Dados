{
  "nbformat": 4,
  "nbformat_minor": 0,
  "metadata": {
    "colab": {
      "provenance": []
    },
    "kernelspec": {
      "name": "python3",
      "display_name": "Python 3"
    },
    "language_info": {
      "name": "python"
    }
  },
  "cells": [
    {
      "cell_type": "code",
      "execution_count": 1,
      "metadata": {
        "colab": {
          "base_uri": "https://localhost:8080/"
        },
        "id": "jnq2aUEINj5O",
        "outputId": "6703f3f8-1038-403e-b3b6-00a85a9eae83"
      },
      "outputs": [
        {
          "output_type": "stream",
          "name": "stdout",
          "text": [
            "\u001b[2K     \u001b[90m━━━━━━━━━━━━━━━━━━━━━━━━━━━━━━━━━━━━━━━━\u001b[0m \u001b[32m1.1/1.1 MB\u001b[0m \u001b[31m12.4 MB/s\u001b[0m eta \u001b[36m0:00:00\u001b[0m\n",
            "\u001b[2K     \u001b[90m━━━━━━━━━━━━━━━━━━━━━━━━━━━━━━━━━━━━━━━━\u001b[0m \u001b[32m1.0/1.0 MB\u001b[0m \u001b[31m34.9 MB/s\u001b[0m eta \u001b[36m0:00:00\u001b[0m\n",
            "\u001b[2K     \u001b[90m━━━━━━━━━━━━━━━━━━━━━━━━━━━━━━━━━━━━━━━━\u001b[0m \u001b[32m20.1/20.1 MB\u001b[0m \u001b[31m23.9 MB/s\u001b[0m eta \u001b[36m0:00:00\u001b[0m\n",
            "\u001b[2K     \u001b[90m━━━━━━━━━━━━━━━━━━━━━━━━━━━━━━━━━━━━━━━━\u001b[0m \u001b[32m55.4/55.4 KB\u001b[0m \u001b[31m1.3 MB/s\u001b[0m eta \u001b[36m0:00:00\u001b[0m\n",
            "\u001b[2K     \u001b[90m━━━━━━━━━━━━━━━━━━━━━━━━━━━━━━━━━━━━━━━━\u001b[0m \u001b[32m16.0/16.0 MB\u001b[0m \u001b[31m69.0 MB/s\u001b[0m eta \u001b[36m0:00:00\u001b[0m\n",
            "\u001b[2K     \u001b[90m━━━━━━━━━━━━━━━━━━━━━━━━━━━━━━━━━━━━━━━━\u001b[0m \u001b[32m7.7/7.7 MB\u001b[0m \u001b[31m81.8 MB/s\u001b[0m eta \u001b[36m0:00:00\u001b[0m\n",
            "\u001b[?25h"
          ]
        }
      ],
      "source": [
        "!pip install contextily geopandas rtree -q "
      ]
    },
    {
      "cell_type": "code",
      "source": [
        "# Importando bibliotecas\n",
        "import matplotlib.pyplot as plt\n",
        "import numpy as np\n",
        "import geopandas as gpd\n",
        "import pandas as pd\n",
        "from shapely.geometry import Polygon, LineString, Point"
      ],
      "metadata": {
        "id": "_wY-7gb4OCMd"
      },
      "execution_count": 2,
      "outputs": []
    },
    {
      "cell_type": "code",
      "source": [
        "# Função para criação de grid\n",
        "def create_grid_and_save(shapefile_path, cell_size, output_shapefile_path):\n",
        "\n",
        "  gdf = gpd.read_file(shapefile_path)\n",
        "  shp_bounds = gdf.total_bounds\n",
        "  \n",
        "  x_min, y_min, x_max, y_max = shp_bounds\n",
        "  rows = int((y_max - y_min) / cell_size)\n",
        "  cols = int((x_max - x_min) / cell_size)\n",
        "  \n",
        "  x = np.linspace(x_min, x_max, cols)\n",
        "  y = np.linspace(y_min, y_max, rows)\n",
        "  xx, yy = np.meshgrid(x, y)\n",
        "\n",
        "  polygon_list = []\n",
        "  for i in range(rows - 1):\n",
        "      for j in range(cols - 1):\n",
        "          polygon = Polygon([(xx[i, j], yy[i, j]), (xx[i, j + 1], yy[i, j + 1]),\n",
        "                             (xx[i + 1, j + 1], yy[i + 1, j + 1]), (xx[i + 1, j],\n",
        "                                                                    yy[i + 1, j])])\n",
        "          polygon_list.append(polygon)\n",
        "\n",
        "  gdf_grid = gpd.GeoDataFrame(geometry=polygon_list)\n",
        "\n",
        "  gdf_grid.to_file(output_shapefile_path, driver='ESRI Shapefile')\n",
        "  return gdf_grid"
      ],
      "metadata": {
        "id": "KBC6aGF0N7qU"
      },
      "execution_count": 3,
      "outputs": []
    },
    {
      "cell_type": "code",
      "source": [
        "grid = create_grid_and_save('/content/DF_metros.shp', 5000, 'grid_50km.shp')"
      ],
      "metadata": {
        "id": "kaOxYEeyOLuy"
      },
      "execution_count": 9,
      "outputs": []
    },
    {
      "cell_type": "code",
      "source": [],
      "metadata": {
        "id": "q9NlDfGqPN-5"
      },
      "execution_count": null,
      "outputs": []
    }
  ]
}