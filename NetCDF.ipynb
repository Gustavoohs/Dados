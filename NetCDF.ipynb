{
 "cells": [
  {
   "cell_type": "code",
   "execution_count": null,
   "id": "3371019b",
   "metadata": {},
   "outputs": [],
   "source": [
    "!apt-get install libgeos-3.5.0\n",
    "!apt-get install libgeos-dev\n",
    "!pip install https://github.com/matplotlib/basemap/archive/master.zip"
   ]
  },
  {
   "cell_type": "code",
   "execution_count": null,
   "id": "3abcd0b4",
   "metadata": {},
   "outputs": [],
   "source": [
    "!pip install pyproj==1.9.6"
   ]
  },
  {
   "cell_type": "code",
   "execution_count": null,
   "id": "efe14b14",
   "metadata": {},
   "outputs": [],
   "source": [
    "from netCDF4 import Dataset\n",
    "import numpy as np\n",
    "import matplotlib.pyplot as plt\n",
    "from mpl_toolkits.basemap import Basemap, addcyclic, shiftgrid"
   ]
  },
  {
   "cell_type": "code",
   "execution_count": null,
   "id": "b2db2e3d",
   "metadata": {},
   "outputs": [],
   "source": [
    "data = Dataset(r'airtemp.nc')\n",
    "\n",
    "lats = data.variables['lat'][:]\n",
    "lons = data.variables['lon'][:]\n",
    "time = data.variables['time'][:]\n",
    "air = data.variables['air'][:]"
   ]
  },
  {
   "cell_type": "code",
   "execution_count": null,
   "id": "07b75147",
   "metadata": {},
   "outputs": [],
   "source": [
    "mp = Basemap(projection='moll', llcrnrlat=-90, urcrnrlat=90,\\\n",
    "            llcrnrlon=0, urcrnrlon=360, resolution='c', lon_0=0)"
   ]
  },
  {
   "cell_type": "code",
   "execution_count": null,
   "id": "db912ad1",
   "metadata": {},
   "outputs": [],
   "source": [
    "dia = 200\n",
    "air_cyc, lon_cyc = addcyclic(air[dia, :, :], lons)\n",
    "air_cyc, lon_cyc = shiftgrid(180., air_cyc, lon_cyc, start=False)\n",
    "lon, lat = np.meshgrid(lon_cyc, lats)\n",
    "x, y = mp(lon, lat)"
   ]
  },
  {
   "cell_type": "code",
   "execution_count": null,
   "id": "483c9e46",
   "metadata": {},
   "outputs": [],
   "source": [
    "plt.figure(figsize=(15,10))\n",
    "c_scheme = mp.pcolor(x, y, (air_cyc-273), cmap = 'jet')\n",
    "mp.drawcoastlines()\n",
    "mp.drawcountries()\n",
    "cbar = mp.colorbar(c_scheme, location = 'right')\n",
    "\n",
    "plt.title('Temperatura do ar')\n",
    "plt.show()"
   ]
  }
 ],
 "metadata": {
  "kernelspec": {
   "display_name": "Python 3",
   "language": "python",
   "name": "python3"
  },
  "language_info": {
   "codemirror_mode": {
    "name": "ipython",
    "version": 3
   },
   "file_extension": ".py",
   "mimetype": "text/x-python",
   "name": "python",
   "nbconvert_exporter": "python",
   "pygments_lexer": "ipython3",
   "version": "3.8.8"
  }
 },
 "nbformat": 4,
 "nbformat_minor": 5
}
